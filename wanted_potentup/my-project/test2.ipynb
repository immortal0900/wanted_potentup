{
 "cells": [
  {
   "cell_type": "markdown",
   "id": "f0dbea13",
   "metadata": {},
   "source": [
    "**볼드 입니다**\n",
    "==했갈==\n",
    "\n"
   ]
  }
 ],
 "metadata": {
  "kernelspec": {
   "display_name": "my-project",
   "language": "python",
   "name": "python3"
  },
  "language_info": {
   "name": "python",
   "version": "3.13.5"
  }
 },
 "nbformat": 4,
 "nbformat_minor": 5
}
