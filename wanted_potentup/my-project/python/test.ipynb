{
 "cells": [
  {
   "cell_type": "markdown",
   "id": "5ac45a32",
   "metadata": {},
   "source": [
    "# 안녕하세요\n"
   ]
  },
  {
   "cell_type": "code",
   "execution_count": null,
   "id": "40d3a991",
   "metadata": {
    "vscode": {
     "languageId": "plaintext"
    }
   },
   "outputs": [],
   "source": [
    "print('hello')"
   ]
  }
 ],
 "metadata": {
  "language_info": {
   "name": "python"
  }
 },
 "nbformat": 4,
 "nbformat_minor": 5
}
