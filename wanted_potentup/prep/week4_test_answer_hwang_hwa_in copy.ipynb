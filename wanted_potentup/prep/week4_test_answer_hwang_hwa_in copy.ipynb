{
 "cells": [
  {
   "cell_type": "markdown",
   "id": "7a807347",
   "metadata": {},
   "source": [
    "# 파이썬 자료열 문제\n",
    "## 리스트\n",
    "### 1번 문제\n",
    "- 숫자 1, 2, 3, 4, 5로 구성된 리스트를 만들어 출력해보세요. ^^\n"
   ]
  },
  {
   "cell_type": "code",
   "execution_count": 1,
   "id": "f029a45d",
   "metadata": {},
   "outputs": [
    {
     "name": "stdout",
     "output_type": "stream",
     "text": [
      "[1, 2, 3, 4, 5]\n"
     ]
    }
   ],
   "source": [
    "num = [1, 2, 3, 4, 5]\n",
    "print(num)"
   ]
  },
  {
   "cell_type": "markdown",
   "id": "539e182a",
   "metadata": {},
   "source": [
    "### 2번 문제\n",
    "- 리스트 ['apple', 'banana', 'cherry'] 에서 두 번째 값을 출력해보세요."
   ]
  },
  {
   "cell_type": "code",
   "execution_count": 3,
   "id": "30e3a735",
   "metadata": {},
   "outputs": [
    {
     "name": "stdout",
     "output_type": "stream",
     "text": [
      "banana\n"
     ]
    }
   ],
   "source": [
    "fruits = ['apple', 'banana', 'cherry']\n",
    "index_2 = fruits[1]\n",
    "print(index_2)"
   ]
  },
  {
   "cell_type": "markdown",
   "id": "47ae2be7",
   "metadata": {},
   "source": [
    "### 3번 문제\n",
    "-  문자열 슬라이싱  문자열 \"I love Python\" 에서 \"love\" 만 추출하세요."
   ]
  },
  {
   "cell_type": "code",
   "execution_count": 6,
   "id": "0b6c667d",
   "metadata": {},
   "outputs": [
    {
     "name": "stdout",
     "output_type": "stream",
     "text": [
      "love\n"
     ]
    }
   ],
   "source": [
    "love = \"I love Python\"\n",
    "answer = love[2:6]\n",
    "print(answer)"
   ]
  },
  {
   "cell_type": "markdown",
   "id": "a7defc6b",
   "metadata": {},
   "source": [
    "### 4번 문제\n",
    "-  문자열 뒤집기  문자열 \"Python\" 을 뒤집어서 출력하세요."
   ]
  },
  {
   "cell_type": "code",
   "execution_count": 13,
   "id": "7b03387a",
   "metadata": {},
   "outputs": [
    {
     "name": "stdout",
     "output_type": "stream",
     "text": [
      "nohtyP\n"
     ]
    }
   ],
   "source": [
    "a = \"Python\"\n",
    "a = list(a)\n",
    "answer_list = []\n",
    "for i in range(len(a)):\n",
    "    pop_a = a.pop()\n",
    "    answer_list.append(pop_a)\n",
    "\n",
    "answer = \"\".join(answer_list)\n",
    "print(answer)\n"
   ]
  },
  {
   "cell_type": "code",
   "execution_count": 1,
   "id": "c3e216be",
   "metadata": {},
   "outputs": [
    {
     "name": "stdout",
     "output_type": "stream",
     "text": [
      "nohtyP\n"
     ]
    }
   ],
   "source": [
    "a = \"Python\"\n",
    "answer = a[::-1]\n",
    "print(answer)"
   ]
  },
  {
   "cell_type": "code",
   "execution_count": 8,
   "id": "3deda3fc",
   "metadata": {},
   "outputs": [
    {
     "name": "stdout",
     "output_type": "stream",
     "text": [
      "nohtyP\n"
     ]
    }
   ],
   "source": [
    "a = \"Python\"\n",
    "b = reversed(a)\n",
    "answer = ''.join(b)\n",
    "\n",
    "print(answer)\n"
   ]
  },
  {
   "cell_type": "markdown",
   "id": "aa46f3ef",
   "metadata": {},
   "source": [
    "### 5번 문제\n",
    "-  대소문자 변환  문자열 \"Python Is Fun\" 을 모두 소문자로, 모두 대문자로 출력하세요."
   ]
  },
  {
   "cell_type": "code",
   "execution_count": 14,
   "id": "a902ec9d",
   "metadata": {},
   "outputs": [
    {
     "name": "stdout",
     "output_type": "stream",
     "text": [
      "PYTHON IS FUN\n",
      "python is fun\n"
     ]
    }
   ],
   "source": [
    "fun = \"Python Is Fun\"\n",
    "upper = fun.upper()\n",
    "lower = fun.lower()\n",
    "\n",
    "print(upper)\n",
    "print(lower)    "
   ]
  },
  {
   "cell_type": "markdown",
   "id": "110d76b0",
   "metadata": {},
   "source": [
    "### 6번 문제\n",
    "-  공백 제거하기  문자열 \" Hello \" 에서 좌우 공백을 제거하세요."
   ]
  },
  {
   "cell_type": "code",
   "execution_count": 15,
   "id": "52a62cb4",
   "metadata": {},
   "outputs": [
    {
     "name": "stdout",
     "output_type": "stream",
     "text": [
      "Hello\n"
     ]
    }
   ],
   "source": [
    "a = \" Hello \"\n",
    "answer = a.strip()\n",
    "print(answer)"
   ]
  },
  {
   "cell_type": "markdown",
   "id": "9f25c34d",
   "metadata": {},
   "source": [
    "### 7번 문제\n",
    "-  문자열 합치기  문자열 \"Hello\" 와 \"World\" 를 공백을 포함하여 연결하세요."
   ]
  },
  {
   "cell_type": "code",
   "execution_count": 2,
   "id": "df42170a",
   "metadata": {},
   "outputs": [
    {
     "name": "stdout",
     "output_type": "stream",
     "text": [
      "Hello World\n"
     ]
    }
   ],
   "source": [
    "str1 = 'Hello'\n",
    "str2 = 'World'\n",
    "answer = str1 + ' ' + str2\n",
    "print(answer)\n"
   ]
  },
  {
   "cell_type": "markdown",
   "id": "a5b5f648",
   "metadata": {},
   "source": [
    "### 8번 문제\n",
    "-  문자열 반복  문자열 \"Hi\" 를 3번 반복하여 출력하세요."
   ]
  },
  {
   "cell_type": "code",
   "execution_count": 3,
   "id": "c7171cc2",
   "metadata": {},
   "outputs": [
    {
     "name": "stdout",
     "output_type": "stream",
     "text": [
      "HiHiHi\n"
     ]
    }
   ],
   "source": [
    "str = 'Hi'\n",
    "answer = str * 3\n",
    "print(answer)"
   ]
  },
  {
   "cell_type": "markdown",
   "id": "a90e9e45",
   "metadata": {},
   "source": [
    "### 9번 문제\n",
    "-  문자 포함 여부  문자열 \"banana\" 에 \"na\" 가 몇 번 나오는지 세어보세요."
   ]
  },
  {
   "cell_type": "code",
   "execution_count": 4,
   "id": "17b4ee1c",
   "metadata": {},
   "outputs": [
    {
     "name": "stdout",
     "output_type": "stream",
     "text": [
      "2\n"
     ]
    }
   ],
   "source": [
    "str = \"banana\"\n",
    "answer = str.count('na')\n",
    "print(answer)"
   ]
  },
  {
   "cell_type": "markdown",
   "id": "8d386f18",
   "metadata": {},
   "source": [
    "### 10번 문제\n",
    "- "
   ]
  },
  {
   "cell_type": "code",
   "execution_count": 5,
   "id": "b478845d",
   "metadata": {},
   "outputs": [
    {
     "name": "stdout",
     "output_type": "stream",
     "text": [
      "I love Python\n"
     ]
    }
   ],
   "source": [
    "str = \"I love Java\"\n",
    "answer = str.replace('Java', 'Python')\n",
    "print(answer)"
   ]
  },
  {
   "cell_type": "markdown",
   "id": "edd4d470",
   "metadata": {},
   "source": [
    "## 중급\n",
    "### 11번 문제\n",
    "-  문자열 포맷팅 (f-string 사용)  이름이 \"John\" 이고 나이가 25 일 때, \"My name is John and I am 25 years old.\" 를 f-string  으로 출력하세요."
   ]
  },
  {
   "cell_type": "code",
   "execution_count": 6,
   "id": "e130fdb7",
   "metadata": {},
   "outputs": [
    {
     "name": "stdout",
     "output_type": "stream",
     "text": [
      "My name is John and I am 25 years old.\n"
     ]
    }
   ],
   "source": [
    "name = \"John\"\n",
    "age = 25\n",
    "answer = f\"My name is {name} and I am {age} years old.\"\n",
    "print(answer)"
   ]
  },
  {
   "cell_type": "markdown",
   "id": "7af169c9",
   "metadata": {},
   "source": [
    "### 12번 문제\n",
    "- split()과 join() 사용  문자열 \"apple,banana,grape\" 를 나누어 리스트로 만들고, 다시 공백을 기준으로 문자  열로 합치세요."
   ]
  },
  {
   "cell_type": "code",
   "execution_count": 8,
   "id": "094c03f9",
   "metadata": {},
   "outputs": [
    {
     "name": "stdout",
     "output_type": "stream",
     "text": [
      "['apple', 'banana', 'grape']\n",
      "apple banana grape\n"
     ]
    }
   ],
   "source": [
    "str = \"apple,banana,grape\"\n",
    "split_str = str.split(',')\n",
    "print(split_str)\n",
    "join_str = ' '.join(split_str)\n",
    "print(join_str)"
   ]
  },
  {
   "cell_type": "markdown",
   "id": "40387586",
   "metadata": {},
   "source": [
    "### 13번 문제\n",
    "- "
   ]
  },
  {
   "cell_type": "code",
   "execution_count": null,
   "id": "1d62dff8",
   "metadata": {},
   "outputs": [
    {
     "name": "stdout",
     "output_type": "stream",
     "text": [
      "5\n"
     ]
    }
   ],
   "source": [
    "str = \"This is a test sentence\"\n",
    "split_str = str.split()\n",
    "answer = len(split_str)\n",
    "print(answer)"
   ]
  },
  {
   "cell_type": "markdown",
   "id": "17dd757f",
   "metadata": {},
   "source": [
    "### 14번 문제\n",
    "- 문자열에서 숫자만 추출하기  문자열 \"abc123def456\" 에서 숫자만 추출하여 \"123456\" 으로 출력하세요."
   ]
  },
  {
   "cell_type": "code",
   "execution_count": 12,
   "id": "5ba7ccd5",
   "metadata": {},
   "outputs": [
    {
     "name": "stdout",
     "output_type": "stream",
     "text": [
      "123456\n"
     ]
    }
   ],
   "source": [
    "str = \"abc123def456\"\n",
    "list_str = []\n",
    "for i in str:\n",
    "    if i.isdigit() == True:\n",
    "        list_str.append(i)\n",
    "join_str = \"\".join(list_str)\n",
    "print(join_str)"
   ]
  },
  {
   "cell_type": "code",
   "execution_count": 13,
   "id": "42358f8a",
   "metadata": {},
   "outputs": [
    {
     "name": "stdout",
     "output_type": "stream",
     "text": [
      "123456\n"
     ]
    }
   ],
   "source": [
    "str = \"abc123def456\"\n",
    "num_str = str[3:6] + str[-3:]\n",
    "print(num_str)"
   ]
  },
  {
   "cell_type": "markdown",
   "id": "b157aa80",
   "metadata": {},
   "source": [
    "### 15번 문제\n",
    "-회문(Palindrome) 판별하기  문자열 \"level\" 이 앞뒤가 같은지 확인하는 프로그램을 작성하세요."
   ]
  },
  {
   "cell_type": "code",
   "execution_count": null,
   "id": "7c6ef3d7",
   "metadata": {},
   "outputs": [
    {
     "name": "stdout",
     "output_type": "stream",
     "text": [
      "['l', 'e', 'v', 'e', 'l']\n",
      "['l', 'e', 'v', 'e', 'l']\n",
      "True\n"
     ]
    }
   ],
   "source": [
    "\n",
    "str = \"level\"\n",
    "str_list = list(str)\n",
    "str_list2 = list(str) # pop() 때문에 원본이 바뀌므로 비교연산을 하기 위해 별도로 지정\n",
    "\n",
    "def is_same(input):\n",
    "\n",
    "    reverse_str = []\n",
    "    \n",
    "    for i in range(len(input)):\n",
    "        pop_str = input.pop() # 원본이 바뀜\n",
    "        reverse_str.append(pop_str)\n",
    "    \n",
    "    print(reverse_str)\n",
    "    if str_list2 == reverse_str:\n",
    "        return True\n",
    "    else:\n",
    "        return False\n",
    "print(str_list2)\n",
    "\n",
    "print(is_same(str_list))\n",
    "\n",
    "\n"
   ]
  },
  {
   "cell_type": "code",
   "execution_count": 14,
   "id": "2f24da87",
   "metadata": {},
   "outputs": [
    {
     "data": {
      "text/plain": [
       "True"
      ]
     },
     "execution_count": 14,
     "metadata": {},
     "output_type": "execute_result"
    }
   ],
   "source": [
    "str = \"level\"\n",
    "reverse_str = str[::-1]\n",
    "str == reverse_str"
   ]
  },
  {
   "cell_type": "code",
   "execution_count": 16,
   "id": "cb071464",
   "metadata": {},
   "outputs": [
    {
     "name": "stdout",
     "output_type": "stream",
     "text": [
      "level\n"
     ]
    },
    {
     "data": {
      "text/plain": [
       "True"
      ]
     },
     "execution_count": 16,
     "metadata": {},
     "output_type": "execute_result"
    }
   ],
   "source": [
    "str = \"level\"\n",
    "reverse_str = ''.join(reversed(str))\n",
    "print(reverse_str)\n",
    "\n",
    "str == reverse_str"
   ]
  },
  {
   "cell_type": "markdown",
   "id": "181b9800",
   "metadata": {},
   "source": [
    "### 16번 문제\n",
    "- 이메일 주소 유효성 간단 검사  문자열이 \"@\" 와 \".\" 를 포함하고 있으면 이메일로 간주하는 간단한 판별 코드를 작성하세요."
   ]
  },
  {
   "cell_type": "code",
   "execution_count": 30,
   "id": "b26b64aa",
   "metadata": {},
   "outputs": [
    {
     "name": "stdout",
     "output_type": "stream",
     "text": [
      "['i', 'm', 'm', 'o', 'r', 't', 'a', 'l', '0', '9', '0', '0', '@', 'g', 'm', 'a', 'i', 'l', '.', 'c', 'o', 'm']\n",
      "이메일 입니다.\n"
     ]
    }
   ],
   "source": [
    "def isEmil(input):\n",
    "    list_email = list(input)\n",
    "    print(list_email)\n",
    "    if '@'  in list_email and '.' in list_email:\n",
    "        return '이메일 입니다.'\n",
    "    else:\n",
    "        return '이메일이 아닙니다.'\n",
    "\n",
    "Email_1 = isEmil(\"immortal0900@gmail.com\")\n",
    "print(Email_1)"
   ]
  },
  {
   "cell_type": "markdown",
   "id": "e7cf4e5d",
   "metadata": {},
   "source": [
    "### 17번 문제\n",
    "- 중복 문자 제거  문자열 \"apple\" 에서 중복된 문자를 제거하여 \"aple\" 로 출력하세요."
   ]
  },
  {
   "cell_type": "code",
   "execution_count": 38,
   "id": "1ebc8dd7",
   "metadata": {},
   "outputs": [
    {
     "name": "stdout",
     "output_type": "stream",
     "text": [
      "['a', 'p', 'l', 'e']\n",
      "aple\n"
     ]
    }
   ],
   "source": [
    "def is_duplication(str):\n",
    "    list_str = list(str)\n",
    "    check_list = []\n",
    "    for i in list_str:\n",
    "        if check_list == [] or i != check_list[-1]:\n",
    "            check_list.append(i)\n",
    "    print(check_list)\n",
    "    return ''.join(check_list)\n",
    "\n",
    "\n",
    "\n",
    "  \n",
    "\n",
    "print(is_duplication(\"apple\"))\n"
   ]
  },
  {
   "cell_type": "markdown",
   "id": "c9542966",
   "metadata": {},
   "source": [
    "### 18번 문제\n",
    "- 가장 많이 등장하는 문자 찾기  문자열 \"hello world\" 에서 가장 많이 등장한 문자를 구하세요."
   ]
  },
  {
   "cell_type": "code",
   "execution_count": 56,
   "id": "24038023",
   "metadata": {},
   "outputs": [
    {
     "name": "stdout",
     "output_type": "stream",
     "text": [
      "l\n"
     ]
    }
   ],
   "source": [
    "def is_many(sentence):\n",
    "    change_list = list(sentence)\n",
    "    change_list2 = list(sentence)\n",
    "    num_list = []\n",
    "    for i in change_list:\n",
    "        num_list.append(change_list2.count(i)) \n",
    "   \n",
    "    num_list_index = num_list.index(max(num_list))\n",
    "    return change_list2[num_list_index]\n",
    "    \n",
    "\n",
    "print(is_many('hello world'))"
   ]
  },
  {
   "cell_type": "markdown",
   "id": "abebe2a8",
   "metadata": {},
   "source": [
    "### 6번 문제\n",
    "- 문자열 정렬 후 출력하기  문자열 \"dcba\" 를 알파벳 순서로 정렬하여 \"abcd\" 로 출력하세요. "
   ]
  },
  {
   "cell_type": "code",
   "execution_count": 57,
   "id": "6b78f93c",
   "metadata": {},
   "outputs": [
    {
     "name": "stdout",
     "output_type": "stream",
     "text": [
      "abcd\n"
     ]
    }
   ],
   "source": [
    "str = \"dcba\"\n",
    "list_str = list(str)\n",
    "sort_list = sorted(list_str)\n",
    "join_list = ''.join(sort_list)\n",
    "print(join_list)\n",
    "\n"
   ]
  },
  {
   "cell_type": "code",
   "execution_count": 58,
   "id": "acb2c006",
   "metadata": {},
   "outputs": [
    {
     "name": "stdout",
     "output_type": "stream",
     "text": [
      "abcd\n"
     ]
    }
   ],
   "source": [
    "str = \"dcba\"\n",
    "set_str = set(str)\n",
    "join_set = ''.join(sort_list)\n",
    "print(join_set)"
   ]
  },
  {
   "cell_type": "code",
   "execution_count": 60,
   "id": "085744a7",
   "metadata": {},
   "outputs": [
    {
     "name": "stdout",
     "output_type": "stream",
     "text": [
      "abcd\n"
     ]
    }
   ],
   "source": [
    "str = \"dcba\"\n",
    "print(str[::-1])"
   ]
  },
  {
   "cell_type": "markdown",
   "id": "dfd56703",
   "metadata": {},
   "source": [
    "### 10번 문제\n",
    "- 문자열 안에 있는 소문자만 추출하기  문자열 \"HeLLo123World\" 에서 소문자만 추출하여 출력하세요.  답"
   ]
  },
  {
   "cell_type": "code",
   "execution_count": null,
   "id": "4c00d02d",
   "metadata": {},
   "outputs": [
    {
     "name": "stdout",
     "output_type": "stream",
     "text": [
      "eoorld\n"
     ]
    },
    {
     "ename": "",
     "evalue": "",
     "output_type": "error",
     "traceback": [
      "\u001b[1;31mThe Kernel crashed while executing code in the current cell or a previous cell. \n",
      "\u001b[1;31mPlease review the code in the cell(s) to identify a possible cause of the failure. \n",
      "\u001b[1;31mClick <a href='https://aka.ms/vscodeJupyterKernelCrash'>here</a> for more info. \n",
      "\u001b[1;31mView Jupyter <a href='command:jupyter.viewOutput'>log</a> for further details."
     ]
    }
   ],
   "source": [
    "def is_lower(text):\n",
    "    text_list = list(text)\n",
    "    upper_text_list = list(text.upper())\n",
    "    answer_list = []\n",
    "   \n",
    "    for i in text_list:\n",
    "        if i not in upper_text_list:\n",
    "            answer_list.append(i)\n",
    "    return ''.join(answer_list)\n",
    "\n",
    "print(is_lower(\"HeLLo123World\"))"
   ]
  }
 ],
 "metadata": {
  "kernelspec": {
   "display_name": "prep",
   "language": "python",
   "name": "python3"
  },
  "language_info": {
   "codemirror_mode": {
    "name": "ipython",
    "version": 3
   },
   "file_extension": ".py",
   "mimetype": "text/x-python",
   "name": "python",
   "nbconvert_exporter": "python",
   "pygments_lexer": "ipython3",
   "version": "3.13.2"
  }
 },
 "nbformat": 4,
 "nbformat_minor": 5
}
