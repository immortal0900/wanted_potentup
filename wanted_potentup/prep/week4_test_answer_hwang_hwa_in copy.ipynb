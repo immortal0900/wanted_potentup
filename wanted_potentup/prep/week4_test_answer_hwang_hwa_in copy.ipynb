{
 "cells": [
  {
   "cell_type": "markdown",
   "id": "7a807347",
   "metadata": {},
   "source": [
    "# 파이썬 자료열 문제\n",
    "## 리스트\n",
    "### 1번 문제\n",
    "- 숫자 1, 2, 3, 4, 5로 구성된 리스트를 만들어 출력해보세요. ^^\n"
   ]
  },
  {
   "cell_type": "code",
   "execution_count": 1,
   "id": "f029a45d",
   "metadata": {},
   "outputs": [
    {
     "name": "stdout",
     "output_type": "stream",
     "text": [
      "[1, 2, 3, 4, 5]\n"
     ]
    }
   ],
   "source": [
    "num = [1, 2, 3, 4, 5]\n",
    "print(num)"
   ]
  },
  {
   "cell_type": "markdown",
   "id": "539e182a",
   "metadata": {},
   "source": [
    "### 2번 문제\n",
    "- 리스트 ['apple', 'banana', 'cherry'] 에서 두 번째 값을 출력해보세요."
   ]
  },
  {
   "cell_type": "code",
   "execution_count": 3,
   "id": "30e3a735",
   "metadata": {},
   "outputs": [
    {
     "name": "stdout",
     "output_type": "stream",
     "text": [
      "banana\n"
     ]
    }
   ],
   "source": [
    "fruits = ['apple', 'banana', 'cherry']\n",
    "index_2 = fruits[1]\n",
    "print(index_2)"
   ]
  },
  {
   "cell_type": "markdown",
   "id": "47ae2be7",
   "metadata": {},
   "source": [
    "### 3번 문제\n",
    "- 리스트 [1, 2, 3] 에 숫자 4를 추가해서 출력해보세요."
   ]
  },
  {
   "cell_type": "code",
   "execution_count": 3,
   "id": "0b6c667d",
   "metadata": {},
   "outputs": [
    {
     "name": "stdout",
     "output_type": "stream",
     "text": [
      "[1, 2, 3, 4]\n"
     ]
    }
   ],
   "source": [
    "mylist = [1, 2, 3]\n",
    "mylist.append(4)\n",
    "print(mylist)"
   ]
  },
  {
   "cell_type": "markdown",
   "id": "a7defc6b",
   "metadata": {},
   "source": [
    "### 4번 문제\n",
    "- 리스트 [10, 20, 30, 40] 의 첫 번째 값을 100으로 바꾸고 출력해보세요."
   ]
  },
  {
   "cell_type": "code",
   "execution_count": 4,
   "id": "7b03387a",
   "metadata": {},
   "outputs": [
    {
     "name": "stdout",
     "output_type": "stream",
     "text": [
      "[10, 100, 30, 40]\n"
     ]
    }
   ],
   "source": [
    "mylist = [10, 20, 30, 40]\n",
    "mylist[1] = 100\n",
    "print(mylist)"
   ]
  },
  {
   "cell_type": "markdown",
   "id": "aa46f3ef",
   "metadata": {},
   "source": [
    "### 5번 문제\n",
    "- 리스트 [1, 2, 3, 4, 5] 의 길이를 출력해보세요."
   ]
  },
  {
   "cell_type": "code",
   "execution_count": 5,
   "id": "a902ec9d",
   "metadata": {},
   "outputs": [
    {
     "data": {
      "text/plain": [
       "5"
      ]
     },
     "execution_count": 5,
     "metadata": {},
     "output_type": "execute_result"
    }
   ],
   "source": [
    "data = [1, 2, 3, 4, 5]\n",
    "\n",
    "len(data)"
   ]
  },
  {
   "cell_type": "markdown",
   "id": "110d76b0",
   "metadata": {},
   "source": [
    "### 6번 문제\n",
    "- 빈 리스트를 만들고 여기에 숫자 10, 20, 30을 차례로 추가한 뒤 출력해보세요."
   ]
  },
  {
   "cell_type": "code",
   "execution_count": 7,
   "id": "52a62cb4",
   "metadata": {},
   "outputs": [
    {
     "name": "stdout",
     "output_type": "stream",
     "text": [
      "[10, 20, 30]\n"
     ]
    }
   ],
   "source": [
    "data = []\n",
    "data.append(10)\n",
    "data.append(20)\n",
    "data.append(30)\n",
    "print(data)"
   ]
  },
  {
   "cell_type": "markdown",
   "id": "9f25c34d",
   "metadata": {},
   "source": [
    "### 7번 문제\n",
    "- 리스트 [1, 2, 3, 4, 5] 에서 마지막 요소를 제거하고 출력해보세요."
   ]
  },
  {
   "cell_type": "code",
   "execution_count": 8,
   "id": "df42170a",
   "metadata": {},
   "outputs": [
    {
     "name": "stdout",
     "output_type": "stream",
     "text": [
      "[1, 2, 3, 4]\n"
     ]
    }
   ],
   "source": [
    "data =[1, 2, 3, 4, 5]\n",
    "data.pop()\n",
    "print(data)\n"
   ]
  },
  {
   "cell_type": "markdown",
   "id": "a5b5f648",
   "metadata": {},
   "source": [
    "### 8번 문제\n",
    "- 리스트 ['a', 'b', 'c'] 에 리스트 ['d', 'e'] 를 더한 결과를 출력해보세요."
   ]
  },
  {
   "cell_type": "code",
   "execution_count": 9,
   "id": "c7171cc2",
   "metadata": {},
   "outputs": [
    {
     "data": {
      "text/plain": [
       "['a', 'b', 'c', 'd', 'e']"
      ]
     },
     "execution_count": 9,
     "metadata": {},
     "output_type": "execute_result"
    }
   ],
   "source": [
    "data = ['a', 'b', 'c'] \n",
    "data + ['d','e']"
   ]
  },
  {
   "cell_type": "markdown",
   "id": "a90e9e45",
   "metadata": {},
   "source": [
    "### 9번 문제\n",
    "- 리스트 [1, 2, 3, 4, 5] 에서 중간의 3을 삭제하고 출력해보세요."
   ]
  },
  {
   "cell_type": "code",
   "execution_count": 11,
   "id": "17b4ee1c",
   "metadata": {},
   "outputs": [
    {
     "name": "stdout",
     "output_type": "stream",
     "text": [
      "[1, 2, 4, 5]\n"
     ]
    }
   ],
   "source": [
    "data = [1, 2, 3, 4, 5]\n",
    "del data[2]\n",
    "print(data)"
   ]
  },
  {
   "cell_type": "markdown",
   "id": "8d386f18",
   "metadata": {},
   "source": [
    "### 10번 문제\n",
    "- 리스트 [100, 200, 300] 을 문자열로 변환해서 출력해보세요. (힌트: str() 사용) "
   ]
  },
  {
   "cell_type": "code",
   "execution_count": 12,
   "id": "b478845d",
   "metadata": {},
   "outputs": [
    {
     "name": "stdout",
     "output_type": "stream",
     "text": [
      "<class 'str'>\n"
     ]
    }
   ],
   "source": [
    "data = [100, 200, 300]\n",
    "str(data)\n",
    "print(str)"
   ]
  },
  {
   "cell_type": "markdown",
   "id": "edd4d470",
   "metadata": {},
   "source": [
    "## 튜플\n",
    "### 1번 문제\n",
    "- 숫자 1, 2, 3이 들어 있는 튜플을 만들어 출력해보세요."
   ]
  },
  {
   "cell_type": "code",
   "execution_count": 13,
   "id": "e130fdb7",
   "metadata": {},
   "outputs": [
    {
     "name": "stdout",
     "output_type": "stream",
     "text": [
      "(1, 2, 3)\n"
     ]
    }
   ],
   "source": [
    "tuple = (1,2,3)\n",
    "print(tuple)"
   ]
  },
  {
   "cell_type": "markdown",
   "id": "7af169c9",
   "metadata": {},
   "source": [
    "### 2번 문제\n",
    "튜플 (10, 20, 30) 에서 두 번째 값을 출력해보세요."
   ]
  },
  {
   "cell_type": "code",
   "execution_count": 14,
   "id": "094c03f9",
   "metadata": {},
   "outputs": [
    {
     "name": "stdout",
     "output_type": "stream",
     "text": [
      "30\n"
     ]
    }
   ],
   "source": [
    "data = (10, 20, 30)\n",
    "print(data[2])"
   ]
  },
  {
   "cell_type": "markdown",
   "id": "40387586",
   "metadata": {},
   "source": [
    "### 3번 문제\n",
    "- 문자열 3개가 들어 있는 튜플을 만들어 출력해보세요."
   ]
  },
  {
   "cell_type": "code",
   "execution_count": null,
   "id": "1d62dff8",
   "metadata": {},
   "outputs": [
    {
     "name": "stdout",
     "output_type": "stream",
     "text": [
      "5\n"
     ]
    }
   ],
   "source": []
  },
  {
   "cell_type": "markdown",
   "id": "17dd757f",
   "metadata": {},
   "source": [
    "### 14번 문제\n",
    "- 문자열에서 숫자만 추출하기  문자열 \"abc123def456\" 에서 숫자만 추출하여 \"123456\" 으로 출력하세요."
   ]
  },
  {
   "cell_type": "code",
   "execution_count": 12,
   "id": "5ba7ccd5",
   "metadata": {},
   "outputs": [
    {
     "name": "stdout",
     "output_type": "stream",
     "text": [
      "123456\n"
     ]
    }
   ],
   "source": [
    "str = \"abc123def456\"\n",
    "list_str = []\n",
    "for i in str:\n",
    "    if i.isdigit() == True:\n",
    "        list_str.append(i)\n",
    "join_str = \"\".join(list_str)\n",
    "print(join_str)"
   ]
  },
  {
   "cell_type": "code",
   "execution_count": 13,
   "id": "42358f8a",
   "metadata": {},
   "outputs": [
    {
     "name": "stdout",
     "output_type": "stream",
     "text": [
      "123456\n"
     ]
    }
   ],
   "source": [
    "str = \"abc123def456\"\n",
    "num_str = str[3:6] + str[-3:]\n",
    "print(num_str)"
   ]
  },
  {
   "cell_type": "markdown",
   "id": "b157aa80",
   "metadata": {},
   "source": [
    "### 15번 문제\n",
    "-회문(Palindrome) 판별하기  문자열 \"level\" 이 앞뒤가 같은지 확인하는 프로그램을 작성하세요."
   ]
  },
  {
   "cell_type": "code",
   "execution_count": null,
   "id": "7c6ef3d7",
   "metadata": {},
   "outputs": [
    {
     "name": "stdout",
     "output_type": "stream",
     "text": [
      "['l', 'e', 'v', 'e', 'l']\n",
      "['l', 'e', 'v', 'e', 'l']\n",
      "True\n"
     ]
    }
   ],
   "source": [
    "\n",
    "str = \"level\"\n",
    "str_list = list(str)\n",
    "str_list2 = list(str) # pop() 때문에 원본이 바뀌므로 비교연산을 하기 위해 별도로 지정\n",
    "\n",
    "def is_same(input):\n",
    "\n",
    "    reverse_str = []\n",
    "    \n",
    "    for i in range(len(input)):\n",
    "        pop_str = input.pop() # 원본이 바뀜\n",
    "        reverse_str.append(pop_str)\n",
    "    \n",
    "    print(reverse_str)\n",
    "    if str_list2 == reverse_str:\n",
    "        return True\n",
    "    else:\n",
    "        return False\n",
    "print(str_list2)\n",
    "\n",
    "print(is_same(str_list))\n",
    "\n",
    "\n"
   ]
  },
  {
   "cell_type": "code",
   "execution_count": 14,
   "id": "2f24da87",
   "metadata": {},
   "outputs": [
    {
     "data": {
      "text/plain": [
       "True"
      ]
     },
     "execution_count": 14,
     "metadata": {},
     "output_type": "execute_result"
    }
   ],
   "source": [
    "str = \"level\"\n",
    "reverse_str = str[::-1]\n",
    "str == reverse_str"
   ]
  },
  {
   "cell_type": "code",
   "execution_count": 16,
   "id": "cb071464",
   "metadata": {},
   "outputs": [
    {
     "name": "stdout",
     "output_type": "stream",
     "text": [
      "level\n"
     ]
    },
    {
     "data": {
      "text/plain": [
       "True"
      ]
     },
     "execution_count": 16,
     "metadata": {},
     "output_type": "execute_result"
    }
   ],
   "source": [
    "str = \"level\"\n",
    "reverse_str = ''.join(reversed(str))\n",
    "print(reverse_str)\n",
    "\n",
    "str == reverse_str"
   ]
  },
  {
   "cell_type": "markdown",
   "id": "181b9800",
   "metadata": {},
   "source": [
    "### 16번 문제\n",
    "- 이메일 주소 유효성 간단 검사  문자열이 \"@\" 와 \".\" 를 포함하고 있으면 이메일로 간주하는 간단한 판별 코드를 작성하세요."
   ]
  },
  {
   "cell_type": "code",
   "execution_count": 30,
   "id": "b26b64aa",
   "metadata": {},
   "outputs": [
    {
     "name": "stdout",
     "output_type": "stream",
     "text": [
      "['i', 'm', 'm', 'o', 'r', 't', 'a', 'l', '0', '9', '0', '0', '@', 'g', 'm', 'a', 'i', 'l', '.', 'c', 'o', 'm']\n",
      "이메일 입니다.\n"
     ]
    }
   ],
   "source": [
    "def isEmil(input):\n",
    "    list_email = list(input)\n",
    "    print(list_email)\n",
    "    if '@'  in list_email and '.' in list_email:\n",
    "        return '이메일 입니다.'\n",
    "    else:\n",
    "        return '이메일이 아닙니다.'\n",
    "\n",
    "Email_1 = isEmil(\"immortal0900@gmail.com\")\n",
    "print(Email_1)"
   ]
  },
  {
   "cell_type": "markdown",
   "id": "e7cf4e5d",
   "metadata": {},
   "source": [
    "### 17번 문제\n",
    "- 중복 문자 제거  문자열 \"apple\" 에서 중복된 문자를 제거하여 \"aple\" 로 출력하세요."
   ]
  },
  {
   "cell_type": "code",
   "execution_count": 38,
   "id": "1ebc8dd7",
   "metadata": {},
   "outputs": [
    {
     "name": "stdout",
     "output_type": "stream",
     "text": [
      "['a', 'p', 'l', 'e']\n",
      "aple\n"
     ]
    }
   ],
   "source": [
    "def is_duplication(str):\n",
    "    list_str = list(str)\n",
    "    check_list = []\n",
    "    for i in list_str:\n",
    "        if check_list == [] or i != check_list[-1]:\n",
    "            check_list.append(i)\n",
    "    print(check_list)\n",
    "    return ''.join(check_list)\n",
    "\n",
    "\n",
    "\n",
    "  \n",
    "\n",
    "print(is_duplication(\"apple\"))\n"
   ]
  },
  {
   "cell_type": "markdown",
   "id": "c9542966",
   "metadata": {},
   "source": [
    "### 18번 문제\n",
    "- 가장 많이 등장하는 문자 찾기  문자열 \"hello world\" 에서 가장 많이 등장한 문자를 구하세요."
   ]
  },
  {
   "cell_type": "code",
   "execution_count": 56,
   "id": "24038023",
   "metadata": {},
   "outputs": [
    {
     "name": "stdout",
     "output_type": "stream",
     "text": [
      "l\n"
     ]
    }
   ],
   "source": [
    "def is_many(sentence):\n",
    "    change_list = list(sentence)\n",
    "    change_list2 = list(sentence)\n",
    "    num_list = []\n",
    "    for i in change_list:\n",
    "        num_list.append(change_list2.count(i)) \n",
    "   \n",
    "    num_list_index = num_list.index(max(num_list))\n",
    "    return change_list2[num_list_index]\n",
    "    \n",
    "\n",
    "print(is_many('hello world'))"
   ]
  },
  {
   "cell_type": "markdown",
   "id": "abebe2a8",
   "metadata": {},
   "source": [
    "### 6번 문제\n",
    "- 문자열 정렬 후 출력하기  문자열 \"dcba\" 를 알파벳 순서로 정렬하여 \"abcd\" 로 출력하세요. "
   ]
  },
  {
   "cell_type": "code",
   "execution_count": 57,
   "id": "6b78f93c",
   "metadata": {},
   "outputs": [
    {
     "name": "stdout",
     "output_type": "stream",
     "text": [
      "abcd\n"
     ]
    }
   ],
   "source": [
    "str = \"dcba\"\n",
    "list_str = list(str)\n",
    "sort_list = sorted(list_str)\n",
    "join_list = ''.join(sort_list)\n",
    "print(join_list)\n",
    "\n"
   ]
  },
  {
   "cell_type": "code",
   "execution_count": 58,
   "id": "acb2c006",
   "metadata": {},
   "outputs": [
    {
     "name": "stdout",
     "output_type": "stream",
     "text": [
      "abcd\n"
     ]
    }
   ],
   "source": [
    "str = \"dcba\"\n",
    "set_str = set(str)\n",
    "join_set = ''.join(sort_list)\n",
    "print(join_set)"
   ]
  },
  {
   "cell_type": "code",
   "execution_count": 60,
   "id": "085744a7",
   "metadata": {},
   "outputs": [
    {
     "name": "stdout",
     "output_type": "stream",
     "text": [
      "abcd\n"
     ]
    }
   ],
   "source": [
    "str = \"dcba\"\n",
    "print(str[::-1])"
   ]
  },
  {
   "cell_type": "markdown",
   "id": "dfd56703",
   "metadata": {},
   "source": [
    "### 10번 문제\n",
    "- 문자열 안에 있는 소문자만 추출하기  문자열 \"HeLLo123World\" 에서 소문자만 추출하여 출력하세요.  답"
   ]
  },
  {
   "cell_type": "code",
   "execution_count": null,
   "id": "4c00d02d",
   "metadata": {},
   "outputs": [
    {
     "name": "stdout",
     "output_type": "stream",
     "text": [
      "eoorld\n"
     ]
    },
    {
     "ename": "",
     "evalue": "",
     "output_type": "error",
     "traceback": [
      "\u001b[1;31mThe Kernel crashed while executing code in the current cell or a previous cell. \n",
      "\u001b[1;31mPlease review the code in the cell(s) to identify a possible cause of the failure. \n",
      "\u001b[1;31mClick <a href='https://aka.ms/vscodeJupyterKernelCrash'>here</a> for more info. \n",
      "\u001b[1;31mView Jupyter <a href='command:jupyter.viewOutput'>log</a> for further details."
     ]
    }
   ],
   "source": [
    "def is_lower(text):\n",
    "    text_list = list(text)\n",
    "    upper_text_list = list(text.upper())\n",
    "    answer_list = []\n",
    "   \n",
    "    for i in text_list:\n",
    "        if i not in upper_text_list:\n",
    "            answer_list.append(i)\n",
    "    return ''.join(answer_list)\n",
    "\n",
    "print(is_lower(\"HeLLo123World\"))"
   ]
  }
 ],
 "metadata": {
  "kernelspec": {
   "display_name": "Python 3",
   "language": "python",
   "name": "python3"
  },
  "language_info": {
   "codemirror_mode": {
    "name": "ipython",
    "version": 3
   },
   "file_extension": ".py",
   "mimetype": "text/x-python",
   "name": "python",
   "nbconvert_exporter": "python",
   "pygments_lexer": "ipython3",
   "version": "3.13.5"
  }
 },
 "nbformat": 4,
 "nbformat_minor": 5
}
