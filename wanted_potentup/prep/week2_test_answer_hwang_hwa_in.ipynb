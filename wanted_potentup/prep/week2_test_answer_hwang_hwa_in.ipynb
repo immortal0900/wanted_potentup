{
 "cells": [
  {
   "cell_type": "markdown",
   "id": "5896f8d7",
   "metadata": {},
   "source": [
    "# 기초문제\n",
    "## 1번문제\n",
    "- 두 개의 정수형 변수를 선언하고, 두 변수의 합을 출력하세요."
   ]
  },
  {
   "cell_type": "code",
   "execution_count": null,
   "id": "b9020242",
   "metadata": {},
   "outputs": [],
   "source": []
  },
  {
   "cell_type": "code",
   "execution_count": 2,
   "id": "a03af17a",
   "metadata": {},
   "outputs": [
    {
     "name": "stdout",
     "output_type": "stream",
     "text": [
      "<class 'int'>\n",
      "5\n"
     ]
    }
   ],
   "source": [
    "a = 2\n",
    "b = 3\n",
    "print(type(a+b))\n",
    "print(a + b)\n"
   ]
  },
  {
   "cell_type": "markdown",
   "id": "a1429f4e",
   "metadata": {},
   "source": [
    "## 2번 문제\n",
    "- 하나의 실수형 변수를 선언하고, 해당 수에 10을 더한 결과를 출력하세요."
   ]
  },
  {
   "cell_type": "code",
   "execution_count": 5,
   "id": "c59e2765",
   "metadata": {},
   "outputs": [
    {
     "name": "stdout",
     "output_type": "stream",
     "text": [
      "<class 'float'>\n",
      "12.0\n"
     ]
    }
   ],
   "source": [
    "a = 2.0\n",
    "print(type(a))\n",
    "print(a + 10)"
   ]
  },
  {
   "cell_type": "markdown",
   "id": "8c0f896e",
   "metadata": {},
   "source": [
    "## 3번 문제\n",
    "- 두 개의 숫자를 곱한 결과를 변수에 저장한 뒤 출력하세요."
   ]
  },
  {
   "cell_type": "code",
   "execution_count": 7,
   "id": "6dd7cf87",
   "metadata": {},
   "outputs": [
    {
     "name": "stdout",
     "output_type": "stream",
     "text": [
      "6\n"
     ]
    }
   ],
   "source": [
    "a = 2\n",
    "b = 3\n",
    "print(a * b)"
   ]
  },
  {
   "cell_type": "markdown",
   "id": "266ea2d8",
   "metadata": {},
   "source": [
    "## 4번 문제\n",
    "- 정수형 변수 a  10 , 실수형 변수 b  3.5 일 때, 두 수의 차를 구하세요."
   ]
  },
  {
   "cell_type": "code",
   "execution_count": 8,
   "id": "22b1ec5f",
   "metadata": {},
   "outputs": [
    {
     "name": "stdout",
     "output_type": "stream",
     "text": [
      "6.5\n"
     ]
    }
   ],
   "source": [
    "a = 10\n",
    "b = 3.5\n",
    "print(a - b)"
   ]
  },
  {
   "cell_type": "markdown",
   "id": "a9aa969d",
   "metadata": {},
   "source": [
    "## 5번 문제\n",
    "- 세 개의 정수를 선언하고, 평균을 구해 출력하세요."
   ]
  },
  {
   "cell_type": "code",
   "execution_count": 13,
   "id": "e02ed266",
   "metadata": {},
   "outputs": [
    {
     "name": "stdout",
     "output_type": "stream",
     "text": [
      "5.0\n"
     ]
    }
   ],
   "source": [
    "a = 3\n",
    "b = 5\n",
    "c = 7\n",
    "print((a + b + c)/3)\n"
   ]
  },
  {
   "cell_type": "markdown",
   "id": "dc82f73b",
   "metadata": {},
   "source": [
    "## 6번 문제\n",
    "- 사용자로부터 정수를 입력받아 2배로 만들어 출력하세요."
   ]
  },
  {
   "cell_type": "code",
   "execution_count": 16,
   "id": "c5c3bc30",
   "metadata": {},
   "outputs": [
    {
     "name": "stdout",
     "output_type": "stream",
     "text": [
      "10\n"
     ]
    }
   ],
   "source": [
    "input_int = int(input(\"정수를 입력하세요:\"))\n",
    "duoble_result = input_int * 2\n",
    "print(duoble_result)"
   ]
  },
  {
   "cell_type": "markdown",
   "id": "ff26beed",
   "metadata": {},
   "source": [
    "## 7번 문제\n",
    "- 사용자로부터 실수 2개를 입력받아 나눗셈 결과를 출력하세요."
   ]
  },
  {
   "cell_type": "code",
   "execution_count": 18,
   "id": "6f39d7d2",
   "metadata": {},
   "outputs": [
    {
     "name": "stdout",
     "output_type": "stream",
     "text": [
      "2.0\n"
     ]
    }
   ],
   "source": [
    "input_two_float = map(float, input(\"실수 두개를 띄어서 입력하세요:\").split())\n",
    "a, b = input_two_float\n",
    "print(a / b)"
   ]
  },
  {
   "cell_type": "markdown",
   "id": "975145d6",
   "metadata": {},
   "source": [
    "## 8번 문제\n",
    "- int() 와 float() 함수를 사용해 실수를 정수로, 정수를 실수로 변환해보세요."
   ]
  },
  {
   "cell_type": "code",
   "execution_count": 19,
   "id": "c2cb49e9",
   "metadata": {},
   "outputs": [
    {
     "name": "stdout",
     "output_type": "stream",
     "text": [
      "0\n",
      "2.0\n"
     ]
    }
   ],
   "source": [
    "float_num = 0.258\n",
    "int_num = 2\n",
    "change_int = int(float_num)\n",
    "change_float = float(int_num)\n",
    "print(change_int)\n",
    "print(change_float)"
   ]
  },
  {
   "cell_type": "markdown",
   "id": "a7b5fa5e",
   "metadata": {},
   "source": [
    "## 9번 문제\n",
    "- 변수 x  9 의 제곱을 출력하세요."
   ]
  },
  {
   "cell_type": "code",
   "execution_count": 20,
   "id": "e61c7f1b",
   "metadata": {},
   "outputs": [
    {
     "name": "stdout",
     "output_type": "stream",
     "text": [
      "81\n"
     ]
    }
   ],
   "source": [
    "x = 9\n",
    "print(x ** 2)"
   ]
  },
  {
   "cell_type": "markdown",
   "id": "3bef2eea",
   "metadata": {},
   "source": [
    "## 10번 문제\n",
    "- 변수 a  5 , b  2 일 때, 몫과 나머지를 출력하세요."
   ]
  },
  {
   "cell_type": "code",
   "execution_count": 21,
   "id": "ffd742f0",
   "metadata": {},
   "outputs": [
    {
     "name": "stdout",
     "output_type": "stream",
     "text": [
      "2\n",
      "1\n"
     ]
    }
   ],
   "source": [
    "a = 5\n",
    "b = 2\n",
    "print(5//2)\n",
    "print(5%2)"
   ]
  },
  {
   "cell_type": "markdown",
   "id": "c482964c",
   "metadata": {},
   "source": [
    "# 중급문제\n",
    "## 11번 문제\n",
    "- 반지름이 주어졌을 때 원의 넓이(πr2)를 계산하는 프로그램을 작성하세요. (π는 3.14로  가정)"
   ]
  },
  {
   "cell_type": "code",
   "execution_count": 22,
   "id": "c9165398",
   "metadata": {},
   "outputs": [
    {
     "name": "stdout",
     "output_type": "stream",
     "text": [
      "78.5\n"
     ]
    }
   ],
   "source": [
    "r = int(input(\"원의 반지름을 입력하세요: \"))\n",
    "area = 3.14 * r ** 2\n",
    "print(area)\n"
   ]
  },
  {
   "cell_type": "markdown",
   "id": "ebb17f7f",
   "metadata": {},
   "source": [
    "## 12번 문제\n",
    "- 섭씨 온도를 입력받아 화씨 온도로 변환하는 식( F  C * 9/5  32 )을 적용하세요."
   ]
  },
  {
   "cell_type": "code",
   "execution_count": 23,
   "id": "ceff8f4e",
   "metadata": {},
   "outputs": [
    {
     "name": "stdout",
     "output_type": "stream",
     "text": [
      "97.7\n"
     ]
    }
   ],
   "source": [
    "c = float(input(\"섭씨온도를 입력하세요: \"))\n",
    "f = (c * 9/5) + 32\n",
    "print(f)"
   ]
  },
  {
   "cell_type": "markdown",
   "id": "b295d6f3",
   "metadata": {},
   "source": [
    "## 13번 문제\n",
    "- 연봉을 입력받고, 세금 13%를 제외한 실수령액을 계산하세요."
   ]
  },
  {
   "cell_type": "code",
   "execution_count": 24,
   "id": "4a2ca380",
   "metadata": {},
   "outputs": [
    {
     "name": "stdout",
     "output_type": "stream",
     "text": [
      "4176.0\n"
     ]
    }
   ],
   "source": [
    "salary = int(input(\"연봉을 만원단위로 입력하세요:\"))\n",
    "tax = salary * 0.13\n",
    "salary_after_tax = salary - tax\n",
    "print(salary_after_tax)"
   ]
  },
  {
   "cell_type": "markdown",
   "id": "b44ed16a",
   "metadata": {},
   "source": [
    "## 14번 문제\n",
    "- 3자리 수를 입력받아 백의 자리, 십의 자리, 일의 자리를 각각 구해 출력하세요."
   ]
  },
  {
   "cell_type": "code",
   "execution_count": 28,
   "id": "eb5c9c7c",
   "metadata": {},
   "outputs": [
    {
     "name": "stdout",
     "output_type": "stream",
     "text": [
      "백의 자리: 5\n",
      "십의 자리: 9\n",
      "일의 자리: 8\n"
     ]
    }
   ],
   "source": [
    "num = input(\"3자리수를 입력하세요\")\n",
    "hundreds = num[0]\n",
    "hundreds = int(num) // 100\n",
    "tens = num[1]\n",
    "ones = num[2]\n",
    "\n",
    "print(\"백의 자리:\", hundreds)\n",
    "print(\"십의 자리:\", tens)\n",
    "print(\"일의 자리:\", ones)"
   ]
  },
  {
   "cell_type": "markdown",
   "id": "981ed172",
   "metadata": {},
   "source": [
    "# 15번 문제\n",
    "- 현재 시급과 일일 근무시간을 입력받아 한 달(22일 기준) 급여를 계산하세요."
   ]
  },
  {
   "cell_type": "code",
   "execution_count": 29,
   "id": "06b68ed5",
   "metadata": {},
   "outputs": [
    {
     "name": "stdout",
     "output_type": "stream",
     "text": [
      "1760000\n"
     ]
    }
   ],
   "source": [
    "hourly_rate = int(input(\"현재 시급을 입력하세요:\"))\n",
    "\n",
    "daily_hours = int(input(\"일일 근무시간을 입력하세요:\"))\n",
    "\n",
    "monthly_salary = hourly_rate * daily_hours * 22\n",
    "\n",
    "print(monthly_salary)"
   ]
  },
  {
   "cell_type": "markdown",
   "id": "43ade3dc",
   "metadata": {},
   "source": [
    "## 16번 문제\n",
    "- 소수점 이하 둘째 자리까지 반올림하여 출력하는 프로그램을 작성하세요."
   ]
  },
  {
   "cell_type": "code",
   "execution_count": 30,
   "id": "471a490d",
   "metadata": {},
   "outputs": [
    {
     "name": "stdout",
     "output_type": "stream",
     "text": [
      "3.26\n"
     ]
    }
   ],
   "source": [
    "input_num = float(input(\"숫자를 입력하세요:\"))\n",
    "rounded_num = round(input_num, 2)\n",
    "print(rounded_num)\n"
   ]
  },
  {
   "cell_type": "markdown",
   "id": "6ad8fea4",
   "metadata": {},
   "source": [
    "## 17번 문제\n",
    "- 숫자 3개를 입력받아 가장 큰 수를 출력하세요."
   ]
  },
  {
   "cell_type": "code",
   "execution_count": null,
   "id": "12c7bc0a",
   "metadata": {},
   "outputs": [
    {
     "name": "stdout",
     "output_type": "stream",
     "text": [
      "49\n"
     ]
    }
   ],
   "source": [
    "# 세 개의 숫자를 동시에 입력 받는 방법\n",
    "three_num = map(int, input(\"숫자 3개를 띄어 쓰기 하여 입력하세요:\").split())\n",
    "print(max(three_num))"
   ]
  },
  {
   "cell_type": "code",
   "execution_count": null,
   "id": "def0bb2e",
   "metadata": {},
   "outputs": [
    {
     "name": "stdout",
     "output_type": "stream",
     "text": [
      "8\n"
     ]
    },
    {
     "ename": "",
     "evalue": "",
     "output_type": "error",
     "traceback": [
      "\u001b[1;31mThe Kernel crashed while executing code in the current cell or a previous cell. \n",
      "\u001b[1;31mPlease review the code in the cell(s) to identify a possible cause of the failure. \n",
      "\u001b[1;31mClick <a href='https://aka.ms/vscodeJupyterKernelCrash'>here</a> for more info. \n",
      "\u001b[1;31mView Jupyter <a href='command:jupyter.viewOutput'>log</a> for further details."
     ]
    }
   ],
   "source": [
    "# 세 개의 숫자를 따로따로 입력 받는 방법\n",
    "num1 = int(input(\"첫번째 숫자를 입력하세요:\"))\n",
    "num2 = int(input(\"두번째 숫자를 입력하세요:\"))\n",
    "num3 = int(input(\"세번째 숫자를 입력하세요:\"))\n",
    "\n",
    "num_list = [num1, num2, num3]\n",
    "max_num = max(num_list)\n",
    "print(max_num)\n"
   ]
  },
  {
   "cell_type": "markdown",
   "id": "c8481a77",
   "metadata": {},
   "source": [
    "## 18번 문제\n",
    "- 입력받은 정수가 짝수인지 홀수인지 판단하는 코드를 작성하세요."
   ]
  },
  {
   "cell_type": "code",
   "execution_count": 35,
   "id": "03a3e558",
   "metadata": {},
   "outputs": [
    {
     "name": "stdout",
     "output_type": "stream",
     "text": [
      "홀수\n"
     ]
    }
   ],
   "source": [
    "num = int(input(\"숫자를 입력하세요:\"))\n",
    "even_or_odd = \"짝수\" if num % 2 == 0 else \"홀수\"\n",
    "print(even_or_odd)"
   ]
  },
  {
   "cell_type": "markdown",
   "id": "33ed3da6",
   "metadata": {},
   "source": [
    "## 19번 문제\n",
    "- 사용자가 입력한 두 숫자의 차이의 절댓값을 출력하세요."
   ]
  },
  {
   "cell_type": "code",
   "execution_count": null,
   "id": "74062c7f",
   "metadata": {},
   "outputs": [
    {
     "name": "stdout",
     "output_type": "stream",
     "text": [
      "71\n"
     ]
    }
   ],
   "source": [
    "# 두 개의 숫자를 따로따로 입력 받는 방법\n",
    "num1 = int(input(\"첫번째 숫자를 입력하세요: \"))\n",
    "num2 = int(input(\"두번째 숫자를 입력하세요: \"))\n",
    "abs_diff = abs(num1 - num2)\n",
    "print(abs_diff)"
   ]
  },
  {
   "cell_type": "code",
   "execution_count": null,
   "id": "6335b199",
   "metadata": {},
   "outputs": [
    {
     "name": "stdout",
     "output_type": "stream",
     "text": [
      "40\n"
     ]
    }
   ],
   "source": [
    "# 두 개의 숫자를 동시에 입력 받는 방법\n",
    "two_nums = map(int, input(\"두개의 숫자를 띄어서 입력하세요:\").split())\n",
    "num1, num2 = two_nums\n",
    "abs_diff = abs(num1 - num2)\n",
    "print(abs_diff)"
   ]
  },
  {
   "cell_type": "markdown",
   "id": "281dd01b",
   "metadata": {},
   "source": [
    "## 10번 문제\n",
    "- 1부터 100까지의 숫자 중 3의 배수이자 5의 배수인 수를 출력하는 프로그램을 작성하세요."
   ]
  },
  {
   "cell_type": "code",
   "execution_count": null,
   "id": "51ff2e30",
   "metadata": {},
   "outputs": [
    {
     "name": "stdout",
     "output_type": "stream",
     "text": [
      "[15, 30, 45, 60, 75, 90]\n"
     ]
    }
   ],
   "source": [
    "# for문 이용\n",
    "one_to_hundred = list(range(1, 101))\n",
    "multiples_3_and_5 = []\n",
    "for num in one_to_hundred:\n",
    "    if num % 3 == 0 and num % 5 == 0:\n",
    "        multiples_3_and_5.append(num)\n",
    "print(multiples_3_and_5)"
   ]
  },
  {
   "cell_type": "code",
   "execution_count": null,
   "id": "9485088b",
   "metadata": {},
   "outputs": [
    {
     "name": "stdout",
     "output_type": "stream",
     "text": [
      "[15, 30, 45, 60, 75, 90]\n"
     ]
    }
   ],
   "source": [
    "# 리스트 컴프리헨션 이용\n",
    "one_to_hundred = list(range(1, 101))\n",
    "multiples_3_and_5 = [num for num in one_to_hundred if num % 3 == 0 and num % 5 == 0]\n",
    "print(multiples_3_and_5)"
   ]
  }
 ],
 "metadata": {
  "kernelspec": {
   "display_name": "prep",
   "language": "python",
   "name": "python3"
  },
  "language_info": {
   "codemirror_mode": {
    "name": "ipython",
    "version": 3
   },
   "file_extension": ".py",
   "mimetype": "text/x-python",
   "name": "python",
   "nbconvert_exporter": "python",
   "pygments_lexer": "ipython3",
   "version": "3.13.2"
  }
 },
 "nbformat": 4,
 "nbformat_minor": 5
}
