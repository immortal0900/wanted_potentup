{
 "cells": [
  {
   "cell_type": "code",
   "execution_count": 14,
   "id": "4bc167ec",
   "metadata": {},
   "outputs": [
    {
     "name": "stdout",
     "output_type": "stream",
     "text": [
      "*****\n",
      "*****\n",
      "*****\n",
      "*****\n",
      "*****\n",
      "*****\n",
      "*****\n",
      "*****\n"
     ]
    }
   ],
   "source": [
    "two_num = map(int,input().split())\n",
    "n,m = two_num\n",
    "\n",
    "for num in range(m):\n",
    "    print(\"*\" * n)"
   ]
  },
  {
   "cell_type": "code",
   "execution_count": 2,
   "id": "4d644bd1",
   "metadata": {},
   "outputs": [
    {
     "data": {
      "text/plain": [
       "'황화인'"
      ]
     },
     "execution_count": 2,
     "metadata": {},
     "output_type": "execute_result"
    }
   ],
   "source": [
    "name1 = '황'\n",
    "name2 = '화인'\n",
    "fullname = name1 + name2\n",
    "fullname"
   ]
  },
  {
   "cell_type": "code",
   "execution_count": 3,
   "id": "86b50e47",
   "metadata": {},
   "outputs": [
    {
     "data": {
      "text/plain": [
       "'[질문]인공지능 수업을 가장 잘하는 사람은?[답변]김한호'"
      ]
     },
     "execution_count": 3,
     "metadata": {},
     "output_type": "execute_result"
    }
   ],
   "source": [
    "quest = \"인공지능 수업을 가장 잘하는 사람은?\"\n",
    "answer = '김한호'\n",
    "result = '[질문]' + quest + '[답변]' + answer\n",
    "result"
   ]
  },
  {
   "cell_type": "code",
   "execution_count": 5,
   "id": "7b5f837a",
   "metadata": {},
   "outputs": [
    {
     "ename": "NameError",
     "evalue": "name 'num' is not defined",
     "output_type": "error",
     "traceback": [
      "\u001b[31m---------------------------------------------------------------------------\u001b[39m",
      "\u001b[31mNameError\u001b[39m                                 Traceback (most recent call last)",
      "\u001b[36mCell\u001b[39m\u001b[36m \u001b[39m\u001b[32mIn[5]\u001b[39m\u001b[32m, line 1\u001b[39m\n\u001b[32m----> \u001b[39m\u001b[32m1\u001b[39m result = \u001b[33m'\u001b[39m\u001b[33mday :\u001b[39m\u001b[33m'\u001b[39m + \u001b[43mnum\u001b[49m\n\u001b[32m      2\u001b[39m num = \u001b[32m26\u001b[39m\n\u001b[32m      3\u001b[39m result\n",
      "\u001b[31mNameError\u001b[39m: name 'num' is not defined"
     ]
    }
   ],
   "source": [
    "result = 'day :' + num\n",
    "num = 26\n",
    "result"
   ]
  },
  {
   "cell_type": "code",
   "execution_count": null,
   "id": "0214821a",
   "metadata": {},
   "outputs": [],
   "source": [
    "name = '황화인'\n",
    "birth = '2000-01-01'\n",
    "\n",
    "print(name)\n",
    "print('-'*30)\n",
    "print(birth)"
   ]
  },
  {
   "cell_type": "code",
   "execution_count": 6,
   "id": "acc42402",
   "metadata": {},
   "outputs": [
    {
     "data": {
      "text/plain": [
       "5"
      ]
     },
     "execution_count": 6,
     "metadata": {},
     "output_type": "execute_result"
    }
   ],
   "source": [
    "data = 'aaa'\n",
    "data2 = ' aaa '\n",
    "len(data)\n",
    "len(data2)"
   ]
  },
  {
   "cell_type": "code",
   "execution_count": 7,
   "id": "e920b9fb",
   "metadata": {},
   "outputs": [
    {
     "data": {
      "text/plain": [
       "'m'"
      ]
     },
     "execution_count": 7,
     "metadata": {},
     "output_type": "execute_result"
    }
   ],
   "source": [
    "data = 'm김한호b1999'\n",
    "\n",
    "data[0]"
   ]
  },
  {
   "cell_type": "code",
   "execution_count": 8,
   "id": "7679fbab",
   "metadata": {},
   "outputs": [
    {
     "data": {
      "text/plain": [
       "'김한호'"
      ]
     },
     "execution_count": 8,
     "metadata": {},
     "output_type": "execute_result"
    }
   ],
   "source": [
    "data[1] + data[2] + data[3]"
   ]
  },
  {
   "cell_type": "code",
   "execution_count": 10,
   "id": "26977c41",
   "metadata": {},
   "outputs": [
    {
     "data": {
      "text/plain": [
       "'1'"
      ]
     },
     "execution_count": 10,
     "metadata": {},
     "output_type": "execute_result"
    }
   ],
   "source": [
    "minnum = '810101-1234567'\n",
    "minnum[7]\n"
   ]
  },
  {
   "cell_type": "code",
   "execution_count": null,
   "id": "3d7aa2bf",
   "metadata": {},
   "outputs": [
    {
     "data": {
      "text/plain": [
       "'810101'"
      ]
     },
     "execution_count": 11,
     "metadata": {},
     "output_type": "execute_result"
    }
   ],
   "source": [
    "minnum[0:6]\n",
    "minnum[0] + minnum[1] + minnum[2] + minnum[3] + minnum[4] + minnum[5]\n"
   ]
  },
  {
   "cell_type": "code",
   "execution_count": 12,
   "id": "3d002f30",
   "metadata": {},
   "outputs": [
    {
     "data": {
      "text/plain": [
       "'810101-*******'"
      ]
     },
     "execution_count": 12,
     "metadata": {},
     "output_type": "execute_result"
    }
   ],
   "source": [
    "minnum = '810101-1234567'\n",
    "minnum[0:6] +'-'+ \"*\" *7"
   ]
  },
  {
   "cell_type": "code",
   "execution_count": null,
   "id": "2fae9995",
   "metadata": {},
   "outputs": [
    {
     "data": {
      "text/plain": [
       "'당신의 키는 180 cm입니다.'"
      ]
     },
     "execution_count": 14,
     "metadata": {},
     "output_type": "execute_result"
    }
   ],
   "source": [
    "data = 180\n",
    "result = '당신의 키는 %dcm입니다.'% data # %d는 정수형 숫자가 들어갈 자리 %s 는 문자열이 들어갈 자리, 2개 들어가면 %(data1, data2) 이용\n",
    "result"
   ]
  },
  {
   "cell_type": "code",
   "execution_count": null,
   "id": "66124c84",
   "metadata": {},
   "outputs": [
    {
     "data": {
      "text/plain": [
       "'김한호 님 반갑습니다'"
      ]
     },
     "execution_count": 15,
     "metadata": {},
     "output_type": "execute_result"
    }
   ],
   "source": [
    "data ='m김한호' # ~님 반갑습니다 출력\n",
    "a ='%s님 반갑습니다' %data[1:]\n",
    "a\n",
    "# 데이터 살펴본다\n",
    "# 변수 저장\n",
    "# 어떤 방식으로 결합 고민"
   ]
  },
  {
   "cell_type": "code",
   "execution_count": null,
   "id": "07cb5c02",
   "metadata": {},
   "outputs": [],
   "source": [
    "data ='m김한호' # ~님 반갑습니다 출력\n",
    "name = data[1:]"
   ]
  },
  {
   "cell_type": "code",
   "execution_count": 16,
   "id": "17835280",
   "metadata": {},
   "outputs": [
    {
     "data": {
      "text/plain": [
       "'당신의 키는 김한호'"
      ]
     },
     "execution_count": 16,
     "metadata": {},
     "output_type": "execute_result"
    }
   ],
   "source": [
    "'당신의 키는 {}'.format('김한호')"
   ]
  },
  {
   "cell_type": "code",
   "execution_count": 9,
   "id": "9a6c9656",
   "metadata": {},
   "outputs": [
    {
     "name": "stdout",
     "output_type": "stream",
     "text": [
      "0.12아자1.00\n",
      "0.12 f스트링이다 0.99999\n"
     ]
    }
   ],
   "source": [
    "num1= 0.123454\n",
    "num2= 0.99999\n",
    "result=\"{b:.2f}아자{a:.2f}\".format(a=num2, b=num1)\n",
    "result2 = f\"{a:.2f} f스트링이다 {b:.5f}\"\n",
    "print(result)\n",
    "print(result2)"
   ]
  },
  {
   "cell_type": "code",
   "execution_count": null,
   "id": "632417ca",
   "metadata": {},
   "outputs": [],
   "source": [
    "# 숫자일때\n",
    "data = 0.123456789\n",
    "round(data, 2)"
   ]
  },
  {
   "cell_type": "code",
   "execution_count": 21,
   "id": "7547fcce",
   "metadata": {},
   "outputs": [
    {
     "data": {
      "text/plain": [
       "'0.12'"
      ]
     },
     "execution_count": 21,
     "metadata": {},
     "output_type": "execute_result"
    }
   ],
   "source": [
    "# 문자인 경우\n",
    "data = 0.123456789\n",
    "'{:.2f}'.format(data)"
   ]
  },
  {
   "cell_type": "code",
   "execution_count": 25,
   "id": "10d8b4bc",
   "metadata": {},
   "outputs": [
    {
     "data": {
      "text/plain": [
       "'김한호'"
      ]
     },
     "execution_count": 25,
     "metadata": {},
     "output_type": "execute_result"
    }
   ],
   "source": [
    "data = '           김한호   '\n",
    "data.strip()"
   ]
  },
  {
   "cell_type": "code",
   "execution_count": 26,
   "id": "b2bfab2c",
   "metadata": {},
   "outputs": [
    {
     "data": {
      "text/plain": [
       "'810101-1234567'"
      ]
     },
     "execution_count": 26,
     "metadata": {},
     "output_type": "execute_result"
    }
   ],
   "source": [
    "minnum = '810101*1234567'\n",
    "minnum.replace('*','-')"
   ]
  },
  {
   "cell_type": "code",
   "execution_count": 28,
   "id": "6e69526c",
   "metadata": {},
   "outputs": [
    {
     "data": {
      "text/plain": [
       "'남성: 김한호'"
      ]
     },
     "execution_count": 28,
     "metadata": {},
     "output_type": "execute_result"
    }
   ],
   "source": [
    "minum = 'm김한호' # 남성: 김한호\n",
    "minum.replace(\"m\",'남성: ')"
   ]
  },
  {
   "cell_type": "code",
   "execution_count": 29,
   "id": "96c369a5",
   "metadata": {},
   "outputs": [
    {
     "data": {
      "text/plain": [
       "['송파구', '마천동', '가로등있는집']"
      ]
     },
     "execution_count": 29,
     "metadata": {},
     "output_type": "execute_result"
    }
   ],
   "source": [
    "a = '송파구 마천동 가로등있는집'\n",
    "a.split()"
   ]
  },
  {
   "cell_type": "code",
   "execution_count": null,
   "id": "5481923b",
   "metadata": {},
   "outputs": [
    {
     "data": {
      "text/plain": [
       "8"
      ]
     },
     "execution_count": 30,
     "metadata": {},
     "output_type": "execute_result"
    }
   ],
   "source": [
    "data = '''(서울=연합뉴스) 이보배 김다혜 권희원 기자 = 12·3 비상계엄과 관련한 내란·외환 사건을 수사하는 조은석 특별검사팀은 윤석열 전 대통령 측의 비공개 출석 요구를 수용할 수 없다고 26일 밝혔다.\n",
    "\n",
    "소환 요구 사실이 이미 다 공개돼 있어 실익이 없는 데다, 여러 피의자 중 한 명에 불과한 윤 전 대통령 요구대로 전례가 없는 지하 주차장 출입을 허용할 경우 특혜 논란이 불거질 수 있다는 것이다.\n",
    "\n",
    "내란 특검은 윤 전 대통령이 비공개 조건을 내걸어 출석 요구에 불응할 경우 체포영장 카드를 다시 꺼내 들 수밖에 없음을 경고하며 압박 수위를 높였다.\n",
    "\n",
    "박지영 특별검사보는 이날 언론 브리핑에서 \"출석 장소나 시간이 다 공개된 이상 비공개 소환 요청이 뭘 의미하는지 잘 모르겠다\"며 \"(윤 전 대통령 측이) 저희한테 요구한 건 지하 주차장으로 출입하게 해달라는 것\"이라고 말했다.\n",
    "\n",
    "이어 \"전두환·노태우·이명박·박근혜·노무현 전 대통령 누구도 지하 주차장으로 들어온 적이 없다\"며 \"출입 방식 변경 요구는 수용할 수 없다는 취지로 (대리인단에) 말했다\"고 전했다.\n",
    "\n",
    "헌법재판소의 탄핵심판 출석 당시 윤 전 대통령이 지하 주차장을 이용한 것은 현직 대통령 신분이었기 때문이었고, 현재 서울중앙지법에서 열리는 내란 재판에는 공개 통로를 이용해 출석하고 있다는 점도 언급했다.\n",
    "\n",
    "그러면서 \"(일반 피의자와 윤 전 대통령을) 달리 대우하는 것 자체가 국민이 어떻게 생각하겠느냐는 관점에서 좀 봐야 하지 않냐고 생각한다\"고 했다.\n",
    "'''\n",
    "\n",
    "data.count('대통령')"
   ]
  },
  {
   "cell_type": "code",
   "execution_count": null,
   "id": "5d5c967b",
   "metadata": {},
   "outputs": [
    {
     "data": {
      "text/plain": [
       "'a s d f D I k o'"
      ]
     },
     "execution_count": 10,
     "metadata": {},
     "output_type": "execute_result"
    }
   ],
   "source": [
    "# 문자열 사이에 문자열 삽입\n",
    "a= 'asdfDIko'\n",
    "' '.join(a)"
   ]
  },
  {
   "cell_type": "code",
   "execution_count": null,
   "id": "ae248b5c",
   "metadata": {},
   "outputs": [
    {
     "name": "stdout",
     "output_type": "stream",
     "text": [
      "ASDFDIKO\n",
      "asdfdiko\n"
     ]
    }
   ],
   "source": [
    "# 대문자 소문자 변환\n",
    "upper = a.upper()\n",
    "lower = a.lower()\n",
    "print(upper)\n",
    "print(lower)"
   ]
  },
  {
   "cell_type": "code",
   "execution_count": 13,
   "id": "8d5c7d08",
   "metadata": {},
   "outputs": [
    {
     "name": "stdout",
     "output_type": "stream",
     "text": [
      "2\n",
      "2\n"
     ]
    }
   ],
   "source": [
    "# 위치 찾기\n",
    "index = a.index('d')\n",
    "find = a.find('d')\n",
    "\n",
    "print(index)\n",
    "print(find)\n"
   ]
  }
 ],
 "metadata": {
  "kernelspec": {
   "display_name": "prep",
   "language": "python",
   "name": "python3"
  },
  "language_info": {
   "codemirror_mode": {
    "name": "ipython",
    "version": 3
   },
   "file_extension": ".py",
   "mimetype": "text/x-python",
   "name": "python",
   "nbconvert_exporter": "python",
   "pygments_lexer": "ipython3",
   "version": "3.13.2"
  }
 },
 "nbformat": 4,
 "nbformat_minor": 5
}
