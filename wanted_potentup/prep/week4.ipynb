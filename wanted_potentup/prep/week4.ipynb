{
 "cells": [
  {
   "cell_type": "code",
   "execution_count": 1,
   "id": "221fc266",
   "metadata": {},
   "outputs": [
    {
     "data": {
      "text/plain": [
       "['철수', '영희', '흥민']"
      ]
     },
     "execution_count": 1,
     "metadata": {},
     "output_type": "execute_result"
    }
   ],
   "source": [
    "name = ['철수','영희', '흥민']\n",
    "name"
   ]
  },
  {
   "cell_type": "code",
   "execution_count": null,
   "id": "9394c6db",
   "metadata": {},
   "outputs": [
    {
     "data": {
      "text/plain": [
       "['철수', 100, '영희', 200, '흥민', 300]"
      ]
     },
     "execution_count": 3,
     "metadata": {},
     "output_type": "execute_result"
    }
   ],
   "source": [
    "\n",
    "# 이렇게 숫자형 문자형을 섞어도 된다.\n",
    "name = ['철수',100,'영희',200, '흥민',300]\n",
    "name"
   ]
  },
  {
   "cell_type": "code",
   "execution_count": 7,
   "id": "fbb34124",
   "metadata": {},
   "outputs": [
    {
     "name": "stdout",
     "output_type": "stream",
     "text": [
      "[2, 4, 5, 6, 10, 32, 78, 532]\n",
      "532\n"
     ]
    }
   ],
   "source": [
    "starbucks = [10,32,4,532,2,5,6,78]\n",
    "result = starbucks.sort() # 원본을 손상시키기 때문에 변수를 출력해도 안나옴\n",
    "print(starbucks)\n",
    "print(starbucks[-1])\n"
   ]
  },
  {
   "cell_type": "code",
   "execution_count": 14,
   "id": "695393d5",
   "metadata": {},
   "outputs": [
    {
     "ename": "KeyError",
     "evalue": "slice('name', 2, None)",
     "output_type": "error",
     "traceback": [
      "\u001b[31m---------------------------------------------------------------------------\u001b[39m",
      "\u001b[31mKeyError\u001b[39m                                  Traceback (most recent call last)",
      "\u001b[36mCell\u001b[39m\u001b[36m \u001b[39m\u001b[32mIn[14]\u001b[39m\u001b[32m, line 3\u001b[39m\n\u001b[32m      1\u001b[39m userinfo = {\u001b[33m'\u001b[39m\u001b[33mname\u001b[39m\u001b[33m'\u001b[39m :\u001b[33m'\u001b[39m\u001b[33m흥민\u001b[39m\u001b[33m'\u001b[39m, \u001b[32m2\u001b[39m:\u001b[33m'\u001b[39m\u001b[33m지성\u001b[39m\u001b[33m'\u001b[39m}\n\u001b[32m----> \u001b[39m\u001b[32m3\u001b[39m \u001b[43muserinfo\u001b[49m\u001b[43m[\u001b[49m\u001b[33;43m'\u001b[39;49m\u001b[33;43mname\u001b[39;49m\u001b[33;43m'\u001b[39;49m\u001b[43m:\u001b[49m\u001b[32;43m2\u001b[39;49m\u001b[43m]\u001b[49m\n",
      "\u001b[31mKeyError\u001b[39m: slice('name', 2, None)"
     ]
    }
   ],
   "source": [
    "userinfo = {'name' :'흥민', 2:'지성'}\n",
    "\n",
    "userinfo['name':2]"
   ]
  },
  {
   "cell_type": "code",
   "execution_count": 15,
   "id": "c9d8c295",
   "metadata": {},
   "outputs": [
    {
     "data": {
      "text/plain": [
       "{'강인', '정환', '천수', '흥민'}"
      ]
     },
     "execution_count": 15,
     "metadata": {},
     "output_type": "execute_result"
    }
   ],
   "source": [
    "player = ['흥민', '천수', '흥민', '강인', '흥민', '천수', '정환']\n",
    "clear_data = set(player)\n",
    "clear_data\n"
   ]
  }
 ],
 "metadata": {
  "kernelspec": {
   "display_name": "prep",
   "language": "python",
   "name": "python3"
  },
  "language_info": {
   "codemirror_mode": {
    "name": "ipython",
    "version": 3
   },
   "file_extension": ".py",
   "mimetype": "text/x-python",
   "name": "python",
   "nbconvert_exporter": "python",
   "pygments_lexer": "ipython3",
   "version": "3.13.2"
  }
 },
 "nbformat": 4,
 "nbformat_minor": 5
}
