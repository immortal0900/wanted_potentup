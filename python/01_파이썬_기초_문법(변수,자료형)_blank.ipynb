{
 "cells": [
  {
   "cell_type": "markdown",
   "metadata": {
    "id": "rykO60mofpWR"
   },
   "source": [
    "# 1. 변수"
   ]
  },
  {
   "cell_type": "markdown",
   "metadata": {
    "id": "wUlzBbEmfpWT"
   },
   "source": [
    "# 3. 자료형"
   ]
  },
  {
   "cell_type": "markdown",
   "metadata": {
    "id": "msOAV5snfpWU"
   },
   "source": [
    "## 1) 숫자형"
   ]
  },
  {
   "cell_type": "markdown",
   "metadata": {
    "id": "VNzBbeEefpWU"
   },
   "source": [
    "### (1) 표현"
   ]
  },
  {
   "cell_type": "markdown",
   "metadata": {
    "id": "qArKs0K3fpWU"
   },
   "source": [
    "### (2) 산술/복합 연산"
   ]
  },
  {
   "cell_type": "markdown",
   "metadata": {
    "id": "5zVloo50fpWU"
   },
   "source": [
    "### (3) 예제"
   ]
  },
  {
   "cell_type": "markdown",
   "metadata": {
    "id": "xRKpBRBKfpWU"
   },
   "source": [
    "반복할 횟수 구하기: 100개의 게시물을 한 페이지에 30개씩 보여주려면 총 몇 페이지가 필요할까요?"
   ]
  },
  {
   "cell_type": "code",
   "execution_count": null,
   "metadata": {
    "id": "tYff6S7DfpWV"
   },
   "outputs": [],
   "source": []
  },
  {
   "cell_type": "markdown",
   "metadata": {
    "id": "6zj1iSwefpWV"
   },
   "source": [
    "출생년도가 1982일 때 홀수, 짝수 판단하기"
   ]
  },
  {
   "cell_type": "code",
   "execution_count": null,
   "metadata": {
    "id": "A0Hb8prSfpWV"
   },
   "outputs": [],
   "source": []
  },
  {
   "cell_type": "markdown",
   "metadata": {
    "id": "BxNz_w8zfpWV"
   },
   "source": [
    "## 2) ⭐ 문자열"
   ]
  },
  {
   "cell_type": "markdown",
   "metadata": {
    "id": "g5c456kQfpWV"
   },
   "source": [
    "### (1) 표현"
   ]
  },
  {
   "cell_type": "markdown",
   "metadata": {
    "id": "toneTdjWfpWV"
   },
   "source": [
    "### (2) 연산"
   ]
  },
  {
   "cell_type": "markdown",
   "metadata": {
    "id": "hUBJ8gzffpWW"
   },
   "source": [
    "### (3) 인덱싱/슬라이싱"
   ]
  },
  {
   "cell_type": "markdown",
   "metadata": {
    "id": "y6mwyMTAfpWW"
   },
   "source": [
    "#### 슬라이싱"
   ]
  },
  {
   "cell_type": "markdown",
   "metadata": {
    "id": "pdb-uQGQfpWW"
   },
   "source": [
    "문제. 주민등번호 뒷자리에서 성별을 제외하고 *로 표시해주세요."
   ]
  },
  {
   "cell_type": "code",
   "execution_count": null,
   "metadata": {
    "id": "d5Tm04Y7fpWW"
   },
   "outputs": [],
   "source": []
  },
  {
   "cell_type": "markdown",
   "metadata": {
    "id": "gATEkKPQfpWW"
   },
   "source": [
    "### (4) 문자열 포매팅(f-string)"
   ]
  },
  {
   "cell_type": "code",
   "execution_count": null,
   "metadata": {
    "id": "NYRqG_0QfpWW"
   },
   "outputs": [],
   "source": []
  },
  {
   "cell_type": "markdown",
   "metadata": {
    "id": "JeI53FmcfpWW"
   },
   "source": [
    "### (5) 관련 메서드"
   ]
  },
  {
   "cell_type": "markdown",
   "metadata": {
    "id": "2kO-FpdCfpWW"
   },
   "source": [
    "#### ⭐ 문자열 나누기(split)"
   ]
  },
  {
   "cell_type": "code",
   "execution_count": null,
   "metadata": {
    "id": "UjuLhug4fpWW"
   },
   "outputs": [],
   "source": []
  },
  {
   "cell_type": "markdown",
   "metadata": {
    "id": "O7SkuuYafpWW"
   },
   "source": [
    "예제. 파일 확장자 찾기"
   ]
  },
  {
   "cell_type": "code",
   "execution_count": null,
   "metadata": {
    "id": "8HHL8hmKfpWW"
   },
   "outputs": [],
   "source": []
  },
  {
   "cell_type": "markdown",
   "metadata": {
    "id": "9AbgJyKYfpWW"
   },
   "source": [
    "#### 문자열 대체(replace)"
   ]
  },
  {
   "cell_type": "code",
   "execution_count": null,
   "metadata": {
    "id": "vdNBt5V5fpWW"
   },
   "outputs": [],
   "source": []
  },
  {
   "cell_type": "markdown",
   "metadata": {
    "id": "WcpA-035fpWW"
   },
   "source": [
    "#### 대/소문자 변환(lower, upper)"
   ]
  },
  {
   "cell_type": "code",
   "execution_count": null,
   "metadata": {
    "id": "BtobhPadfpWW"
   },
   "outputs": [],
   "source": []
  },
  {
   "cell_type": "markdown",
   "metadata": {
    "id": "9_t2Lzt6fpWW"
   },
   "source": [
    "#### 공백 제거(lstrip/rstrip/strip)"
   ]
  },
  {
   "cell_type": "code",
   "execution_count": null,
   "metadata": {
    "id": "NSZRjfk2fpWW"
   },
   "outputs": [],
   "source": []
  },
  {
   "cell_type": "markdown",
   "metadata": {
    "id": "MDmVNNmlfpWX"
   },
   "source": [
    "#### 카운트 세기(count)"
   ]
  },
  {
   "cell_type": "code",
   "execution_count": null,
   "metadata": {
    "id": "4OabxfPpfpWX"
   },
   "outputs": [],
   "source": []
  },
  {
   "cell_type": "markdown",
   "metadata": {
    "id": "TcBsq-A4fpWX"
   },
   "source": [
    "예제. 리뷰\n",
    "\n",
    "짬뽕은 정말 맵고 맛있었어요. 해산물이 가득 들어가서 만족했습니다.\n",
    "짜장면은 이 집에서 먹어본 것 중 가장 맛있었어요\n",
    "짜장면 굿"
   ]
  },
  {
   "cell_type": "code",
   "execution_count": null,
   "metadata": {
    "id": "dU5G3cEufpWX"
   },
   "outputs": [],
   "source": []
  },
  {
   "cell_type": "markdown",
   "metadata": {
    "id": "32pY-NGFfpWX"
   },
   "source": [
    "## 3) 리스트(List)"
   ]
  },
  {
   "cell_type": "markdown",
   "metadata": {
    "id": "wZ5yZQH-fpWX"
   },
   "source": [
    "### (1) 표현"
   ]
  },
  {
   "cell_type": "code",
   "execution_count": null,
   "metadata": {
    "id": "HA86_T3JfpWX"
   },
   "outputs": [],
   "source": []
  },
  {
   "cell_type": "markdown",
   "metadata": {
    "id": "MJ0aiHRifpWX"
   },
   "source": [
    "### (2) 인덱싱/슬라이싱"
   ]
  },
  {
   "cell_type": "markdown",
   "metadata": {
    "id": "-4z5eF4FfpWX"
   },
   "source": [
    "#### 인덱싱"
   ]
  },
  {
   "cell_type": "markdown",
   "metadata": {
    "id": "FYU_bl_6fpWb"
   },
   "source": [
    "#### 슬라이싱"
   ]
  },
  {
   "cell_type": "markdown",
   "metadata": {
    "id": "M5-urS5_fpWb"
   },
   "source": [
    "예제.\n",
    "\n",
    "```\n",
    "data = [25, \"apple\", 3.13, [\"dog\", \"cat\", \"rabbit\"]]\n",
    "```\n",
    "\n",
    "* \"cat\" 출력"
   ]
  },
  {
   "cell_type": "code",
   "execution_count": 1,
   "metadata": {
    "id": "CQTMPPw-fpWb"
   },
   "outputs": [
    {
     "name": "stdout",
     "output_type": "stream",
     "text": [
      "cat\n"
     ]
    }
   ],
   "source": [
    "data = [25, \"apple\", 3.13, [\"dog\", \"cat\", \"rabbit\"]]\n",
    "print(data[3][1])"
   ]
  },
  {
   "cell_type": "markdown",
   "metadata": {
    "id": "aG4ATJ-HfpWb"
   },
   "source": [
    "예제.\n",
    "\n",
    "```\n",
    "data = [25, 'apple', 3.13, ['dog', 'cat', 'rabbit']]\n",
    "```\n",
    "\n",
    "* ['dog', 'cat'] 출력"
   ]
  },
  {
   "cell_type": "code",
   "execution_count": 3,
   "metadata": {
    "id": "9UwRH5WafpWb"
   },
   "outputs": [
    {
     "name": "stdout",
     "output_type": "stream",
     "text": [
      "['dog', 'cat']\n"
     ]
    }
   ],
   "source": [
    "data = [25, 'apple', 3.13, ['dog', 'cat', 'rabbit']]\n",
    "print(data[3][:2])"
   ]
  },
  {
   "cell_type": "code",
   "execution_count": 32,
   "metadata": {},
   "outputs": [
    {
     "name": "stdout",
     "output_type": "stream",
     "text": [
      "['pizza', 'pasta']\n"
     ]
    }
   ],
   "source": [
    "orders = ['pasta','pizza']\n",
    "print(orders[::-1])"
   ]
  },
  {
   "cell_type": "markdown",
   "metadata": {
    "id": "1I_5wkFhfpWb"
   },
   "source": [
    "### (2) 연산"
   ]
  },
  {
   "cell_type": "markdown",
   "metadata": {
    "id": "ESRph4l8fpWc"
   },
   "source": [
    "#### 덧셈"
   ]
  },
  {
   "cell_type": "markdown",
   "metadata": {
    "id": "BbGZBaetfpWc"
   },
   "source": [
    "#### 곱셈"
   ]
  },
  {
   "cell_type": "markdown",
   "metadata": {
    "id": "qpxQzhmbfpWc"
   },
   "source": [
    "### (3) range"
   ]
  },
  {
   "cell_type": "markdown",
   "metadata": {},
   "source": []
  },
  {
   "cell_type": "code",
   "execution_count": 6,
   "metadata": {},
   "outputs": [
    {
     "name": "stdout",
     "output_type": "stream",
     "text": [
      "[3, 4, 5, 6, 7, 8, 9]\n"
     ]
    }
   ],
   "source": [
    "#3부터 9까지 리스트로 출력\n",
    "\n",
    "print(list(range(3,10)))"
   ]
  },
  {
   "cell_type": "code",
   "execution_count": 13,
   "metadata": {},
   "outputs": [
    {
     "name": "stdout",
     "output_type": "stream",
     "text": [
      "[1, 3, 5, 7, 9]\n"
     ]
    }
   ],
   "source": [
    "#0에서 10까지 홀수만 출력\n",
    "print(list(range(1,11,2)))\n"
   ]
  },
  {
   "cell_type": "code",
   "execution_count": 31,
   "metadata": {},
   "outputs": [
    {
     "name": "stdout",
     "output_type": "stream",
     "text": [
      "[]\n",
      "[5, 4, 3, 2, 1, 0]\n",
      "[5, 4, 3, 2, 1, 0]\n",
      "[5, 4, 3, 2, 1, 0]\n",
      "[0, 1, 2, 3, 4, 5]\n"
     ]
    }
   ],
   "source": [
    "#0에서 5까지 거꾸로 출력\n",
    "print(list(range(0,6,-1)))\n",
    "\n",
    "a= range(0,6)\n",
    "b= list(a)\n",
    "c= b[::-1]\n",
    "print(c)\n",
    "\n",
    "print(list(range(5, -1, -1)))\n",
    "\n",
    "\n",
    "d = b.reverse()\n",
    "print(b)\n",
    "\n",
    "print(list(reversed(b)))"
   ]
  },
  {
   "cell_type": "markdown",
   "metadata": {
    "id": "cUcxDoQtfpWc"
   },
   "source": [
    "### (4) 수정/추가/삭제"
   ]
  },
  {
   "cell_type": "code",
   "execution_count": 34,
   "metadata": {},
   "outputs": [
    {
     "name": "stdout",
     "output_type": "stream",
     "text": [
      "[0, 1, 2, 3, 4, 5, 6, 7]\n"
     ]
    }
   ],
   "source": [
    "#0에서 7까지를 리스트로 출력\n",
    "print(list(range(0,8)))"
   ]
  },
  {
   "cell_type": "code",
   "execution_count": 43,
   "metadata": {},
   "outputs": [
    {
     "name": "stdout",
     "output_type": "stream",
     "text": [
      "[0, 1, 2, 3, '오', 5, 6, 7]\n",
      "[0, 1, 'two', 'tree', '오', 5, 6, 7]\n",
      "[0, 1, 'two', 'tree', '오', 5, '하하하']\n",
      "[10, 'two', '하하하']\n"
     ]
    }
   ],
   "source": [
    "num_list= list(range(8))\n",
    "# 5번째 값을 '오'로 바꾸기\n",
    "num_list[4] = '오'\n",
    "print(num_list)\n",
    "\n",
    "# 2번째부터 3번째까지 데이터를 영어로 바꾸기\n",
    "num_list[2:4] = ['two','tree']\n",
    "print(num_list)\n",
    "\n",
    "# 7번째부터 끝까지의 데이터를 '하하하'로 바꾸기\n",
    "num_list[6:] = ['하하하']\n",
    "print(num_list)\n",
    "\n",
    "# 3번째에서 끝까지의 데이터를 '하하하'로 바꾸기\n",
    "num_list[3:] =['하하하']\n",
    "\n",
    "# 처음부터 3번째까지의 데이터를 10으로 바꾸기\n",
    "num_list[0:2] = [10]\n",
    "print(num_list)"
   ]
  },
  {
   "cell_type": "markdown",
   "metadata": {
    "id": "eYSBz_UVfpWc"
   },
   "source": [
    "#### 수정"
   ]
  },
  {
   "cell_type": "markdown",
   "metadata": {
    "id": "gESOTUWxfpWc"
   },
   "source": [
    "#### 추가"
   ]
  },
  {
   "cell_type": "code",
   "execution_count": 44,
   "metadata": {},
   "outputs": [
    {
     "name": "stdout",
     "output_type": "stream",
     "text": [
      "[0, 1, 2, 3, 4]\n",
      "[0, 1, 2, 3, 4, [1, 2, 3, 4, 5]]\n",
      "[0, 1, 2, 3, 4, [1, 2, 3, 4, 5], 1, 2, 3, 4, 5]\n"
     ]
    }
   ],
   "source": [
    "data =list(range(5))\n",
    "print(data)\n",
    "\n",
    "# 데이터 한개 추가[1,2,3,4,5]를 추가)\n",
    "data.append([1,2,3,4,5])\n",
    "print(data)\n",
    "\n",
    "# extend 는 요소요소 추가 해줌\n",
    "data.extend([1,2,3,4,5])\n",
    "print(data)"
   ]
  },
  {
   "cell_type": "markdown",
   "metadata": {
    "id": "bJ4Jr4egfpWc"
   },
   "source": [
    "#### 삭제"
   ]
  },
  {
   "cell_type": "code",
   "execution_count": 52,
   "metadata": {},
   "outputs": [
    {
     "name": "stdout",
     "output_type": "stream",
     "text": [
      "[0, 10, 20, 40, 50, 60, 70, 80, 90]\n",
      "80\n",
      "[0, 10, 20, 40, 50, 60, 70, 90]\n",
      "[0, 10, 20, 40, 50]\n",
      "50\n"
     ]
    }
   ],
   "source": [
    "num_list = list(range(0, 100, 10))\n",
    "\n",
    "# 3번째 데이터를 삭제(del)\n",
    "del num_list[3]\n",
    "print(num_list)\n",
    "# 7번째 데이터를 삭제(remove 이용)\n",
    "print(num_list[7])\n",
    "num_list.remove(80)\n",
    "\n",
    "print(num_list)\n",
    "# 뒤에서 부터 3번째 데이터 삭제\n",
    "del num_list[-3:]\n",
    "print(num_list)\n",
    "\n",
    "# 맨 뒤에 있는 데이터를 삭제하고 그 값을 출력해주세요(pop)\n",
    "print(num_list.pop())\n"
   ]
  },
  {
   "cell_type": "markdown",
   "metadata": {
    "id": "3jw2_iXffpWc"
   },
   "source": [
    "예제. 게시물 코드\n",
    "\n",
    "```\n",
    "post_data = [\"ID001\", \"ID002\", \"ID003\", \"ID004\", \"ID005\"]\n",
    "```"
   ]
  },
  {
   "cell_type": "code",
   "execution_count": null,
   "metadata": {
    "id": "TTVODq-pfpWc"
   },
   "outputs": [],
   "source": []
  },
  {
   "cell_type": "markdown",
   "metadata": {
    "id": "nzrEdhKXfpWc"
   },
   "source": [
    "## 4) 튜플(Tuple)"
   ]
  },
  {
   "cell_type": "markdown",
   "metadata": {
    "id": "k6jpRXd8fpWc"
   },
   "source": [
    "### (1) 표현"
   ]
  },
  {
   "cell_type": "markdown",
   "metadata": {
    "id": "bCZYM_W2fpWc"
   },
   "source": [
    "## 5) 딕셔너리(Dictionary)"
   ]
  },
  {
   "cell_type": "markdown",
   "metadata": {
    "id": "iQ82NPU1fpWc"
   },
   "source": [
    "### (1) 표현"
   ]
  },
  {
   "cell_type": "markdown",
   "metadata": {
    "id": "hakTc3rjfpWc"
   },
   "source": [
    "### (2) 딕셔너리 다루기"
   ]
  },
  {
   "cell_type": "markdown",
   "metadata": {
    "id": "s2HGu7VwfpWc"
   },
   "source": [
    "예제. 날씨 데이터\n",
    "* 'city'키 'Busan'으로 수정하기\n",
    "* 미세먼지(`pm10`)키 추가하기 (값: 34)\n",
    "* 'forecast' 키에 ['Rainy', 'Rainy'] 추가하기\n",
    "\n",
    "```\n",
    "weather_data = {\n",
    "    'city': 'Seoul',\n",
    "    'temperature': 22.5,  # 섭씨\n",
    "    'humidity': 60,       # 상대 습도(%)\n",
    "    'forecast': ['Sunny', 'Cloudy', 'Rainy']  # 3일 예보\n",
    "}\n",
    "```"
   ]
  },
  {
   "cell_type": "code",
   "execution_count": null,
   "metadata": {
    "id": "w3-dH_uTfpWc"
   },
   "outputs": [],
   "source": []
  },
  {
   "cell_type": "markdown",
   "metadata": {
    "id": "T1fOPGfffpWd"
   },
   "source": [
    "### (3) 관련 메서드"
   ]
  },
  {
   "cell_type": "markdown",
   "metadata": {
    "id": "xyFqV-k4fpWd"
   },
   "source": [
    "#### 조회"
   ]
  },
  {
   "cell_type": "markdown",
   "metadata": {
    "id": "NXLo6tYHfpWd"
   },
   "source": [
    "#### 삭제"
   ]
  },
  {
   "cell_type": "markdown",
   "metadata": {
    "id": "l8y7gZ80fpWd"
   },
   "source": [
    "## 6) 집합"
   ]
  },
  {
   "cell_type": "markdown",
   "metadata": {
    "id": "NsSD5UjdfpWd"
   },
   "source": [
    "### (1) 표현"
   ]
  },
  {
   "cell_type": "markdown",
   "metadata": {
    "id": "zJqGcyIbfpWd"
   },
   "source": [
    "예제. 이메일 중복 제거\n",
    "\n",
    "```\n",
    "emails = ['user1@example.com','user2@example.com','user1@example.com','user3@example.com','user2@example.com']\n",
    "```"
   ]
  },
  {
   "cell_type": "code",
   "execution_count": null,
   "metadata": {
    "id": "lmsklubGfpWd"
   },
   "outputs": [],
   "source": []
  },
  {
   "cell_type": "markdown",
   "metadata": {
    "id": "u3-4s3VbfpWe"
   },
   "source": [
    "### (2) 요소 추가/제거"
   ]
  },
  {
   "cell_type": "markdown",
   "metadata": {
    "id": "-IE7WahqfpWe"
   },
   "source": [
    "#### 추가"
   ]
  },
  {
   "cell_type": "code",
   "execution_count": null,
   "metadata": {
    "id": "ijOunSBsfzf-"
   },
   "outputs": [],
   "source": []
  },
  {
   "cell_type": "markdown",
   "metadata": {
    "id": "inOzgS8ofpWe"
   },
   "source": [
    "#### 제거"
   ]
  },
  {
   "cell_type": "markdown",
   "metadata": {
    "id": "N7sDYPgkfpWe"
   },
   "source": [
    "### (3) 연산"
   ]
  },
  {
   "cell_type": "markdown",
   "metadata": {
    "id": "WCXq_UaJfpWe"
   },
   "source": [
    "## 7) 불"
   ]
  }
 ],
 "metadata": {
  "colab": {
   "provenance": []
  },
  "kernelspec": {
   "display_name": "Python 3",
   "language": "python",
   "name": "python3"
  },
  "language_info": {
   "codemirror_mode": {
    "name": "ipython",
    "version": 3
   },
   "file_extension": ".py",
   "mimetype": "text/x-python",
   "name": "python",
   "nbconvert_exporter": "python",
   "pygments_lexer": "ipython3",
   "version": "3.13.5"
  }
 },
 "nbformat": 4,
 "nbformat_minor": 0
}
