{
 "cells": [
  {
   "cell_type": "markdown",
   "metadata": {
    "id": "rykO60mofpWR"
   },
   "source": [
    "# 1. 변수"
   ]
  },
  {
   "cell_type": "code",
   "execution_count": 2,
   "metadata": {},
   "outputs": [
    {
     "name": "stdout",
     "output_type": "stream",
     "text": [
      "홍길동\n"
     ]
    }
   ],
   "source": [
    "name = \"홍길동\"\n",
    "age = 20\n",
    "item_count = 15\n",
    "\n",
    "print(name)"
   ]
  },
  {
   "cell_type": "code",
   "execution_count": 3,
   "metadata": {},
   "outputs": [
    {
     "name": "stdout",
     "output_type": "stream",
     "text": [
      "20\n"
     ]
    }
   ],
   "source": [
    "print(age)"
   ]
  },
  {
   "cell_type": "code",
   "execution_count": 4,
   "metadata": {},
   "outputs": [
    {
     "name": "stdout",
     "output_type": "stream",
     "text": [
      "홍길동 20 15\n"
     ]
    }
   ],
   "source": [
    "print(name, age, item_count)"
   ]
  },
  {
   "cell_type": "code",
   "execution_count": 1,
   "metadata": {},
   "outputs": [
    {
     "name": "stdout",
     "output_type": "stream",
     "text": [
      "seoul busan\n"
     ]
    }
   ],
   "source": [
    "city = \"seoul\"\n",
    "City = \"busan\"\n",
    "print(city, City)"
   ]
  },
  {
   "cell_type": "code",
   "execution_count": 6,
   "metadata": {},
   "outputs": [
    {
     "ename": "SyntaxError",
     "evalue": "invalid syntax (1197166940.py, line 1)",
     "output_type": "error",
     "traceback": [
      "\u001b[1;36m  Cell \u001b[1;32mIn[6], line 1\u001b[1;36m\u001b[0m\n\u001b[1;33m    1city = 10\u001b[0m\n\u001b[1;37m     ^\u001b[0m\n\u001b[1;31mSyntaxError\u001b[0m\u001b[1;31m:\u001b[0m invalid syntax\n"
     ]
    }
   ],
   "source": [
    "1city = 10"
   ]
  },
  {
   "cell_type": "code",
   "execution_count": 8,
   "metadata": {},
   "outputs": [
    {
     "ename": "SyntaxError",
     "evalue": "cannot assign to operator (1619617436.py, line 1)",
     "output_type": "error",
     "traceback": [
      "\u001b[1;36m  Cell \u001b[1;32mIn[8], line 1\u001b[1;36m\u001b[0m\n\u001b[1;33m    c-ity = 11\u001b[0m\n\u001b[1;37m    ^\u001b[0m\n\u001b[1;31mSyntaxError\u001b[0m\u001b[1;31m:\u001b[0m cannot assign to operator\n"
     ]
    }
   ],
   "source": [
    "c-ity = 11"
   ]
  },
  {
   "cell_type": "code",
   "execution_count": 9,
   "metadata": {},
   "outputs": [
    {
     "ename": "TypeError",
     "evalue": "'str' object is not callable",
     "output_type": "error",
     "traceback": [
      "\u001b[1;31m---------------------------------------------------------------------------\u001b[0m",
      "\u001b[1;31mTypeError\u001b[0m                                 Traceback (most recent call last)",
      "Cell \u001b[1;32mIn[9], line 2\u001b[0m\n\u001b[0;32m      1\u001b[0m \u001b[38;5;28mprint\u001b[39m \u001b[38;5;241m=\u001b[39m \u001b[38;5;124m\"\u001b[39m\u001b[38;5;124m안녕\u001b[39m\u001b[38;5;124m\"\u001b[39m\n\u001b[1;32m----> 2\u001b[0m \u001b[38;5;28;43mprint\u001b[39;49m\u001b[43m(\u001b[49m\u001b[38;5;28;43mprint\u001b[39;49m\u001b[43m)\u001b[49m\n",
      "\u001b[1;31mTypeError\u001b[0m: 'str' object is not callable"
     ]
    }
   ],
   "source": [
    "print = \"안녕\"\n",
    "print(print)"
   ]
  },
  {
   "cell_type": "markdown",
   "metadata": {
    "id": "wUlzBbEmfpWT"
   },
   "source": [
    "# 3. 자료형"
   ]
  },
  {
   "cell_type": "markdown",
   "metadata": {
    "id": "msOAV5snfpWU"
   },
   "source": [
    "## 1) 숫자형"
   ]
  },
  {
   "cell_type": "markdown",
   "metadata": {
    "id": "VNzBbeEefpWU"
   },
   "source": [
    "### (1) 표현"
   ]
  },
  {
   "cell_type": "code",
   "execution_count": 5,
   "metadata": {},
   "outputs": [
    {
     "name": "stdout",
     "output_type": "stream",
     "text": [
      "5 -1 0 1000000000000\n"
     ]
    }
   ],
   "source": [
    "# 정수\n",
    "x = 5\n",
    "y = -1\n",
    "z = 0\n",
    "money = 1_000_000_000_000\n",
    "\n",
    "print(x, y, z, money)"
   ]
  },
  {
   "cell_type": "code",
   "execution_count": 3,
   "metadata": {},
   "outputs": [
    {
     "name": "stdout",
     "output_type": "stream",
     "text": [
      "<class 'int'>\n"
     ]
    }
   ],
   "source": [
    "print(type(x))"
   ]
  },
  {
   "cell_type": "code",
   "execution_count": 6,
   "metadata": {},
   "outputs": [
    {
     "name": "stdout",
     "output_type": "stream",
     "text": [
      "3.141 -2.5 1e-14\n"
     ]
    }
   ],
   "source": [
    "# 실수\n",
    "a = 3.141\n",
    "b = -2.5\n",
    "c = 0.00000000000001\n",
    "\n",
    "print(a, b, c)"
   ]
  },
  {
   "cell_type": "code",
   "execution_count": 7,
   "metadata": {},
   "outputs": [
    {
     "name": "stdout",
     "output_type": "stream",
     "text": [
      "10000000000.0 3e-05\n"
     ]
    }
   ],
   "source": [
    "x = 1e+10\n",
    "y = 3e-5\n",
    "\n",
    "print(x, y)"
   ]
  },
  {
   "cell_type": "code",
   "execution_count": 8,
   "metadata": {},
   "outputs": [
    {
     "name": "stdout",
     "output_type": "stream",
     "text": [
      "<class 'float'>\n"
     ]
    }
   ],
   "source": [
    "print(type(x))"
   ]
  },
  {
   "cell_type": "code",
   "execution_count": 9,
   "metadata": {},
   "outputs": [
    {
     "name": "stdout",
     "output_type": "stream",
     "text": [
      "<class 'float'>\n"
     ]
    }
   ],
   "source": [
    "z = 1.0\n",
    "\n",
    "print(type(z))"
   ]
  },
  {
   "cell_type": "markdown",
   "metadata": {
    "id": "qArKs0K3fpWU"
   },
   "source": [
    "### (2) 산술/복합 연산"
   ]
  },
  {
   "cell_type": "code",
   "execution_count": 10,
   "metadata": {},
   "outputs": [
    {
     "name": "stdout",
     "output_type": "stream",
     "text": [
      "13\n",
      "7\n",
      "30\n",
      "3.3333333333333335\n",
      "3\n",
      "1\n",
      "1000\n"
     ]
    }
   ],
   "source": [
    "num1 = 10\n",
    "num2 = 3\n",
    "\n",
    "print(num1 + num2)\n",
    "print(num1 - num2)\n",
    "print(num1 * num2)\n",
    "print(num1 / num2)\n",
    "print(num1 // num2)\n",
    "print(num1 % num2)\n",
    "print(num1 ** num2)"
   ]
  },
  {
   "cell_type": "code",
   "execution_count": 11,
   "metadata": {},
   "outputs": [
    {
     "name": "stdout",
     "output_type": "stream",
     "text": [
      "4.0\n",
      "<class 'float'>\n"
     ]
    }
   ],
   "source": [
    "# 12나누기3을 num3에 담으려고 한다. num3의 type은 무엇인가?\n",
    "num1 = 12\n",
    "num2 = 3\n",
    "num3 = num1 / num2\n",
    "\n",
    "print(num3)\n",
    "print(type(num3))"
   ]
  },
  {
   "cell_type": "code",
   "execution_count": 14,
   "metadata": {},
   "outputs": [
    {
     "name": "stdout",
     "output_type": "stream",
     "text": [
      "내 잔고: 50000\n",
      "내 잔고: 70000\n",
      "내 잔고: 52000\n"
     ]
    }
   ],
   "source": [
    "money = 50000\n",
    "print(\"내 잔고:\", money)\n",
    "\n",
    "money += 20000\n",
    "print(\"내 잔고:\", money)\n",
    "\n",
    "money -= 18000\n",
    "print(\"내 잔고:\", money)"
   ]
  },
  {
   "cell_type": "markdown",
   "metadata": {
    "id": "5zVloo50fpWU"
   },
   "source": [
    "### (3) 예제"
   ]
  },
  {
   "cell_type": "markdown",
   "metadata": {
    "id": "xRKpBRBKfpWU"
   },
   "source": [
    "반복할 횟수 구하기: 100개의 게시물을 한 페이지에 30개씩 보여주려면 총 몇 페이지가 필요할까요?"
   ]
  },
  {
   "cell_type": "code",
   "execution_count": null,
   "metadata": {
    "id": "tYff6S7DfpWV"
   },
   "outputs": [
    {
     "name": "stdout",
     "output_type": "stream",
     "text": [
      "3 10\n"
     ]
    }
   ],
   "source": [
    "# 100 나누기 30 = 몫 3 나머지 10\n",
    "# 나머지 10도 페이지로 표현할 수 있다. \n",
    "# 나머지가 있는 경우에는 몫에 1을 더해야 한다.\n",
    "\n",
    "posts = 100\n",
    "posts_per_page = 30 \n",
    "\n",
    "pages = posts // posts_per_page \n",
    "remainder = posts % posts_per_page\n",
    "print(pages, remainder)\n"
   ]
  },
  {
   "cell_type": "markdown",
   "metadata": {
    "id": "6zj1iSwefpWV"
   },
   "source": [
    "출생년도가 1982일 때 홀수, 짝수 판단하기"
   ]
  },
  {
   "cell_type": "code",
   "execution_count": 15,
   "metadata": {
    "id": "A0Hb8prSfpWV"
   },
   "outputs": [
    {
     "name": "stdout",
     "output_type": "stream",
     "text": [
      "0\n"
     ]
    }
   ],
   "source": [
    "# 코드로 짝수/홀수 판단하는 방법: 나머지가 1이면 홀수, 0이면 짝수\n",
    "# 나머지 연산자: %\n",
    "\n",
    "birth = 1982\n",
    "\n",
    "result = birth % 2\n",
    "print(result)"
   ]
  },
  {
   "cell_type": "markdown",
   "metadata": {
    "id": "BxNz_w8zfpWV"
   },
   "source": [
    "## 2) ⭐ 문자열"
   ]
  },
  {
   "cell_type": "markdown",
   "metadata": {
    "id": "g5c456kQfpWV"
   },
   "source": [
    "### (1) 표현"
   ]
  },
  {
   "cell_type": "code",
   "execution_count": 18,
   "metadata": {},
   "outputs": [
    {
     "name": "stdout",
     "output_type": "stream",
     "text": [
      "안녕하세요\n",
      "<class 'str'>\n"
     ]
    }
   ],
   "source": [
    "message = \"안녕하세요\"\n",
    "print(message)\n",
    "print(type(message))"
   ]
  },
  {
   "cell_type": "code",
   "execution_count": 19,
   "metadata": {},
   "outputs": [
    {
     "ename": "SyntaxError",
     "evalue": "invalid syntax (3671718703.py, line 2)",
     "output_type": "error",
     "traceback": [
      "\u001b[1;36m  Cell \u001b[1;32mIn[19], line 2\u001b[1;36m\u001b[0m\n\u001b[1;33m    message = 'I'm hungry'\u001b[0m\n\u001b[1;37m                 ^\u001b[0m\n\u001b[1;31mSyntaxError\u001b[0m\u001b[1;31m:\u001b[0m invalid syntax\n"
     ]
    }
   ],
   "source": [
    "# I'm hungry\n",
    "message = 'I'm hungry'\n",
    "print(message)"
   ]
  },
  {
   "cell_type": "code",
   "execution_count": 20,
   "metadata": {},
   "outputs": [
    {
     "name": "stdout",
     "output_type": "stream",
     "text": [
      "I'm hungry\n"
     ]
    }
   ],
   "source": [
    "message = \"I'm hungry\"\n",
    "print(message)"
   ]
  },
  {
   "cell_type": "code",
   "execution_count": 21,
   "metadata": {},
   "outputs": [
    {
     "name": "stdout",
     "output_type": "stream",
     "text": [
      "I'm hungry\n"
     ]
    }
   ],
   "source": [
    "message = \"I\\'m hungry\"\n",
    "print(message)"
   ]
  },
  {
   "cell_type": "code",
   "execution_count": null,
   "metadata": {},
   "outputs": [
    {
     "name": "stdout",
     "output_type": "stream",
     "text": [
      "\"철수가 말했습니다\"\n"
     ]
    }
   ],
   "source": [
    "# \"철수가 말했습니다\"\n",
    "message = '\"철수가 말했습니다\"'\n",
    "print(message)"
   ]
  },
  {
   "cell_type": "code",
   "execution_count": 23,
   "metadata": {},
   "outputs": [
    {
     "name": "stdout",
     "output_type": "stream",
     "text": [
      "\"철수가 말했습니다\"\n"
     ]
    }
   ],
   "source": [
    "# \"철수가 말했습니다\"\n",
    "message = \"\\\"철수가 말했습니다\\\"\"\n",
    "print(message)"
   ]
  },
  {
   "cell_type": "code",
   "execution_count": 24,
   "metadata": {},
   "outputs": [
    {
     "name": "stdout",
     "output_type": "stream",
     "text": [
      "짜장면 너무 맛있어요\n",
      "여러분들 꼭 사드십시오\n",
      "완전추천합니다.\n"
     ]
    }
   ],
   "source": [
    "review = \"\"\"짜장면 너무 맛있어요\n",
    "여러분들 꼭 사드십시오\n",
    "완전추천합니다.\"\"\"\n",
    "print(review)"
   ]
  },
  {
   "cell_type": "code",
   "execution_count": 26,
   "metadata": {},
   "outputs": [
    {
     "name": "stdout",
     "output_type": "stream",
     "text": [
      "짜장면 너무 맛있어요\n",
      "여러분들 꼭 사드십시오\n",
      "완전추천합니다.\n"
     ]
    }
   ],
   "source": [
    "review = \"짜장면 너무 맛있어요\\n여러분들 꼭 사드십시오\\n완전추천합니다.\"\n",
    "print(review)"
   ]
  },
  {
   "cell_type": "markdown",
   "metadata": {
    "id": "toneTdjWfpWV"
   },
   "source": [
    "### (2) 연산"
   ]
  },
  {
   "cell_type": "code",
   "execution_count": null,
   "metadata": {},
   "outputs": [
    {
     "name": "stdout",
     "output_type": "stream",
     "text": [
      "안녕반가워\n"
     ]
    }
   ],
   "source": [
    "# +(결합)\n",
    "text1 = \"안녕\"\n",
    "text2 = \"반가워\"\n",
    "\n",
    "print(text1 + text2)"
   ]
  },
  {
   "cell_type": "code",
   "execution_count": 28,
   "metadata": {},
   "outputs": [
    {
     "name": "stdout",
     "output_type": "stream",
     "text": [
      "헬로헬로헬로헬로헬로\n"
     ]
    }
   ],
   "source": [
    "# *(반복)\n",
    "text3 = \"헬로\"\n",
    "\n",
    "print(text3 * 5)"
   ]
  },
  {
   "cell_type": "code",
   "execution_count": 30,
   "metadata": {},
   "outputs": [
    {
     "name": "stdout",
     "output_type": "stream",
     "text": [
      "==================================================\n",
      "반복1이 시작되었습니다.\n",
      "==================================================\n"
     ]
    }
   ],
   "source": [
    "# 디버깅\n",
    "print(\"=\" * 50)\n",
    "print(\"반복1이 시작되었습니다.\")\n",
    "print(\"=\" * 50)"
   ]
  },
  {
   "cell_type": "code",
   "execution_count": 31,
   "metadata": {},
   "outputs": [
    {
     "name": "stdout",
     "output_type": "stream",
     "text": [
      "홍길동\n",
      "홍길동 \n"
     ]
    }
   ],
   "source": [
    "name1 = \"홍길동\"\n",
    "name2 = \"홍길동 \"\n",
    "\n",
    "print(name1)\n",
    "print(name2)"
   ]
  },
  {
   "cell_type": "code",
   "execution_count": 32,
   "metadata": {},
   "outputs": [
    {
     "name": "stdout",
     "output_type": "stream",
     "text": [
      "3\n",
      "4\n"
     ]
    }
   ],
   "source": [
    "print(len(name1))\n",
    "print(len(name2))"
   ]
  },
  {
   "cell_type": "markdown",
   "metadata": {
    "id": "hUBJ8gzffpWW"
   },
   "source": [
    "### (3) 인덱싱/슬라이싱"
   ]
  },
  {
   "cell_type": "markdown",
   "metadata": {},
   "source": [
    "<img src='https://www.dropbox.com/scl/fi/ixvhz1b0jwtqgz2dp3v9g/_.png?rlkey=2bj00kc0ozcfyh3jiyjd7598z&st=rsppaheg&dl=1' width=70%>"
   ]
  },
  {
   "cell_type": "markdown",
   "metadata": {},
   "source": [
    "#### 인덱싱"
   ]
  },
  {
   "cell_type": "code",
   "execution_count": 35,
   "metadata": {},
   "outputs": [
    {
     "name": "stdout",
     "output_type": "stream",
     "text": [
      "1\n",
      "1\n"
     ]
    }
   ],
   "source": [
    "regist_num = \"901212-1325221\"\n",
    "\n",
    "print(regist_num[7])\n",
    "print(regist_num[-7])"
   ]
  },
  {
   "cell_type": "code",
   "execution_count": 36,
   "metadata": {},
   "outputs": [
    {
     "name": "stdout",
     "output_type": "stream",
     "text": [
      "A\n",
      "B\n",
      "C\n"
     ]
    }
   ],
   "source": [
    "product1 = \"1002A\"\n",
    "product2 = \"1023938B\"\n",
    "product3 = \"22C\"\n",
    "\n",
    "print(product1[-1])\n",
    "print(product2[-1])\n",
    "print(product3[-1])"
   ]
  },
  {
   "cell_type": "markdown",
   "metadata": {
    "id": "y6mwyMTAfpWW"
   },
   "source": [
    "#### 슬라이싱"
   ]
  },
  {
   "cell_type": "markdown",
   "metadata": {},
   "source": [
    "<img src='https://www.dropbox.com/scl/fi/mfitx382pvcsal0utbuy7/_.png?rlkey=b0tcvbvi8zrc5c14azp8j9995&st=0px6migp&dl=1' width=70%>"
   ]
  },
  {
   "cell_type": "code",
   "execution_count": null,
   "metadata": {},
   "outputs": [
    {
     "name": "stdout",
     "output_type": "stream",
     "text": [
      "1212\n",
      "901212\n",
      "1325221\n"
     ]
    }
   ],
   "source": [
    "regist_num = \"901212-1325221\"\n",
    "\n",
    "print(regist_num[2:6])\n",
    "print(regist_num[:6])\n",
    "print(regist_num[7:])\n",
    "\n",
    "# 음수 표현으로 '1212'추출해보기\n"
   ]
  },
  {
   "cell_type": "code",
   "execution_count": 46,
   "metadata": {},
   "outputs": [
    {
     "name": "stdout",
     "output_type": "stream",
     "text": [
      "1212\n",
      "\n"
     ]
    }
   ],
   "source": [
    "print(regist_num[-12:-8])\n",
    "print(regist_num[-8:-12])"
   ]
  },
  {
   "cell_type": "markdown",
   "metadata": {
    "id": "pdb-uQGQfpWW"
   },
   "source": [
    "문제. 주민등번호 뒷자리에서 성별을 제외하고 *로 표시해주세요."
   ]
  },
  {
   "cell_type": "code",
   "execution_count": 50,
   "metadata": {
    "id": "d5Tm04Y7fpWW"
   },
   "outputs": [
    {
     "name": "stdout",
     "output_type": "stream",
     "text": [
      "901212-1\n",
      "******\n",
      "901212-1******\n"
     ]
    }
   ],
   "source": [
    "regist_num = \"901212-1325221\"\n",
    "\n",
    "# 1. 성별까지 문자열을 추출한다.\n",
    "# 2. 뒤의 6자리를 *로 표현한다. \n",
    "# 1과 2를 합친다.\n",
    "\n",
    "left = regist_num[:8]\n",
    "print(left)\n",
    "right = \"*\" * 6\n",
    "print(right)\n",
    "\n",
    "result = left + right\n",
    "print(result)"
   ]
  },
  {
   "cell_type": "markdown",
   "metadata": {
    "id": "gATEkKPQfpWW"
   },
   "source": [
    "### (4) 문자열 포매팅(f-string)"
   ]
  },
  {
   "cell_type": "code",
   "execution_count": 53,
   "metadata": {
    "id": "NYRqG_0QfpWW"
   },
   "outputs": [
    {
     "name": "stdout",
     "output_type": "stream",
     "text": [
      "홍길동야님 환영합니다.\n"
     ]
    }
   ],
   "source": [
    "name = \"홍길동야\"\n",
    "\n",
    "print(f\"{name}님 환영합니다.\")"
   ]
  },
  {
   "cell_type": "markdown",
   "metadata": {
    "id": "JeI53FmcfpWW"
   },
   "source": [
    "### (5) 관련 메서드"
   ]
  },
  {
   "cell_type": "markdown",
   "metadata": {
    "id": "2kO-FpdCfpWW"
   },
   "source": [
    "#### ⭐ 문자열 나누기(split)"
   ]
  },
  {
   "cell_type": "code",
   "execution_count": 60,
   "metadata": {
    "id": "UjuLhug4fpWW"
   },
   "outputs": [
    {
     "name": "stdout",
     "output_type": "stream",
     "text": [
      "['서울시', '관악구', '신림동']\n",
      "['강남구', '동작구', '노원구']\n"
     ]
    }
   ],
   "source": [
    "address1 = \"서울시 관악구       신림동\"\n",
    "address2 = \"강남구/동작구/노원구\"\n",
    "\n",
    "print(address1.split())\n",
    "print(address2.split(\"/\"))"
   ]
  },
  {
   "cell_type": "markdown",
   "metadata": {
    "id": "O7SkuuYafpWW"
   },
   "source": [
    "예제. 파일 확장자 찾기"
   ]
  },
  {
   "cell_type": "code",
   "execution_count": 61,
   "metadata": {
    "id": "8HHL8hmKfpWW"
   },
   "outputs": [
    {
     "name": "stdout",
     "output_type": "stream",
     "text": [
      "['data', 'txt']\n"
     ]
    }
   ],
   "source": [
    "file_name1 = \"data.txt\"\n",
    "file_name2 = \"test.ipynb\"\n",
    "file_name3 = \"time_stamp.json\"\n",
    "\n",
    "# 확장자 추출\n",
    "print(file_name1.split(\".\"))"
   ]
  },
  {
   "cell_type": "markdown",
   "metadata": {
    "id": "9AbgJyKYfpWW"
   },
   "source": [
    "#### 문자열 대체(replace)"
   ]
  },
  {
   "cell_type": "code",
   "execution_count": 62,
   "metadata": {
    "id": "vdNBt5V5fpWW"
   },
   "outputs": [
    {
     "name": "stdout",
     "output_type": "stream",
     "text": [
      "peter@company.com\n"
     ]
    }
   ],
   "source": [
    "email = \"jason@company.com\"\n",
    "\n",
    "print(email.replace(\"jason\", \"peter\"))"
   ]
  },
  {
   "cell_type": "markdown",
   "metadata": {
    "id": "WcpA-035fpWW"
   },
   "source": [
    "#### 대/소문자 변환(lower, upper)"
   ]
  },
  {
   "cell_type": "code",
   "execution_count": 64,
   "metadata": {
    "id": "BtobhPadfpWW"
   },
   "outputs": [
    {
     "name": "stdout",
     "output_type": "stream",
     "text": [
      "mmffmfmf\n",
      "MMFFMFMF\n"
     ]
    }
   ],
   "source": [
    "gender = \"mmffMFmf\"\n",
    "print(gender.lower())\n",
    "print(gender.upper())"
   ]
  },
  {
   "cell_type": "markdown",
   "metadata": {
    "id": "9_t2Lzt6fpWW"
   },
   "source": [
    "#### 공백 제거(lstrip/rstrip/strip)"
   ]
  },
  {
   "cell_type": "code",
   "execution_count": 66,
   "metadata": {
    "id": "NSZRjfk2fpWW"
   },
   "outputs": [
    {
     "name": "stdout",
     "output_type": "stream",
     "text": [
      "    홍길동    \n",
      "|    홍길동    |\n",
      "|홍길동|\n",
      "|홍길동    |\n",
      "|    홍길동|\n"
     ]
    }
   ],
   "source": [
    "name = \"    홍길동    \" \n",
    "\n",
    "print(name)\n",
    "print(f\"|{name}|\")\n",
    "print(f\"|{name.strip()}|\")\n",
    "print(f\"|{name.lstrip()}|\")\n",
    "print(f\"|{name.rstrip()}|\")"
   ]
  },
  {
   "cell_type": "markdown",
   "metadata": {
    "id": "MDmVNNmlfpWX"
   },
   "source": [
    "#### 카운트 세기(count)"
   ]
  },
  {
   "cell_type": "code",
   "execution_count": 68,
   "metadata": {
    "id": "4OabxfPpfpWX"
   },
   "outputs": [
    {
     "name": "stdout",
     "output_type": "stream",
     "text": [
      "3\n",
      "4\n"
     ]
    }
   ],
   "source": [
    "gender1 = \"mmffMFmf\"\n",
    "gender2 = gender.lower()\n",
    "print(gender1.count(\"m\"))\n",
    "print(gender2.count(\"m\"))"
   ]
  },
  {
   "cell_type": "markdown",
   "metadata": {
    "id": "TcBsq-A4fpWX"
   },
   "source": [
    "예제. 리뷰\n",
    "\n",
    "짬뽕은 정말 맵고 맛있었어요. 해산물이 가득 들어가서 만족했습니다.\n",
    "짜장면은 이 집에서 먹어본 것 중 가장 맛있었어요\n",
    "짜장면 굿"
   ]
  },
  {
   "cell_type": "code",
   "execution_count": 70,
   "metadata": {
    "id": "dU5G3cEufpWX"
   },
   "outputs": [
    {
     "name": "stdout",
     "output_type": "stream",
     "text": [
      "짬뽕은 정말 맵고 맛있었어요. 해산물이 가득 들어가서 만족했습니다.\n",
      "짜장면은 이 집에서 먹어본 것 중 가장 맛있었어요\n",
      "짜장면 굿\n"
     ]
    }
   ],
   "source": [
    "review = \"\"\"짬뽕은 정말 맵고 맛있었어요. 해산물이 가득 들어가서 만족했습니다.\n",
    "짜장면은 이 집에서 먹어본 것 중 가장 맛있었어요\n",
    "짜장면 굿\"\"\"\n",
    "\n",
    "print(review)"
   ]
  },
  {
   "cell_type": "code",
   "execution_count": 71,
   "metadata": {},
   "outputs": [
    {
     "name": "stdout",
     "output_type": "stream",
     "text": [
      "1\n"
     ]
    }
   ],
   "source": [
    "# 짬뽕 개수 추출하기\n",
    "print(review.count(\"짬뽕\"))"
   ]
  },
  {
   "cell_type": "markdown",
   "metadata": {
    "id": "32pY-NGFfpWX"
   },
   "source": [
    "## 3) 리스트(List)"
   ]
  },
  {
   "cell_type": "markdown",
   "metadata": {
    "id": "wZ5yZQH-fpWX"
   },
   "source": [
    "### (1) 표현"
   ]
  },
  {
   "cell_type": "code",
   "execution_count": null,
   "metadata": {
    "id": "HA86_T3JfpWX"
   },
   "outputs": [],
   "source": []
  },
  {
   "cell_type": "markdown",
   "metadata": {
    "id": "MJ0aiHRifpWX"
   },
   "source": [
    "### (2) 인덱싱/슬라이싱"
   ]
  },
  {
   "cell_type": "markdown",
   "metadata": {
    "id": "-4z5eF4FfpWX"
   },
   "source": [
    "#### 인덱싱"
   ]
  },
  {
   "cell_type": "markdown",
   "metadata": {
    "id": "FYU_bl_6fpWb"
   },
   "source": [
    "#### 슬라이싱"
   ]
  },
  {
   "cell_type": "markdown",
   "metadata": {
    "id": "M5-urS5_fpWb"
   },
   "source": [
    "예제.\n",
    "\n",
    "```\n",
    "data = [25, \"apple\", 3.13, [\"dog\", \"cat\", \"rabbit\"]]\n",
    "```\n",
    "\n",
    "* \"cat\" 출력"
   ]
  },
  {
   "cell_type": "code",
   "execution_count": null,
   "metadata": {
    "id": "CQTMPPw-fpWb"
   },
   "outputs": [],
   "source": []
  },
  {
   "cell_type": "markdown",
   "metadata": {
    "id": "aG4ATJ-HfpWb"
   },
   "source": [
    "예제.\n",
    "\n",
    "```\n",
    "data = [25, 'apple', 3.13, ['dog', 'cat', 'rabbit']]\n",
    "```\n",
    "\n",
    "* ['dog', 'cat'] 출력"
   ]
  },
  {
   "cell_type": "code",
   "execution_count": null,
   "metadata": {
    "id": "9UwRH5WafpWb"
   },
   "outputs": [],
   "source": []
  },
  {
   "cell_type": "markdown",
   "metadata": {
    "id": "1I_5wkFhfpWb"
   },
   "source": [
    "### (2) 연산"
   ]
  },
  {
   "cell_type": "markdown",
   "metadata": {
    "id": "ESRph4l8fpWc"
   },
   "source": [
    "#### 덧셈"
   ]
  },
  {
   "cell_type": "markdown",
   "metadata": {
    "id": "BbGZBaetfpWc"
   },
   "source": [
    "#### 곱셈"
   ]
  },
  {
   "cell_type": "markdown",
   "metadata": {
    "id": "qpxQzhmbfpWc"
   },
   "source": [
    "### (3) range"
   ]
  },
  {
   "cell_type": "markdown",
   "metadata": {
    "id": "cUcxDoQtfpWc"
   },
   "source": [
    "### (4) 수정/추가/삭제"
   ]
  },
  {
   "cell_type": "markdown",
   "metadata": {
    "id": "eYSBz_UVfpWc"
   },
   "source": [
    "#### 수정"
   ]
  },
  {
   "cell_type": "markdown",
   "metadata": {
    "id": "gESOTUWxfpWc"
   },
   "source": [
    "#### 추가"
   ]
  },
  {
   "cell_type": "markdown",
   "metadata": {
    "id": "bJ4Jr4egfpWc"
   },
   "source": [
    "#### 삭제"
   ]
  },
  {
   "cell_type": "markdown",
   "metadata": {
    "id": "3jw2_iXffpWc"
   },
   "source": [
    "예제. 게시물 코드\n",
    "\n",
    "```\n",
    "post_data = [\"ID001\", \"ID002\", \"ID003\", \"ID004\", \"ID005\"]\n",
    "```"
   ]
  },
  {
   "cell_type": "code",
   "execution_count": null,
   "metadata": {
    "id": "TTVODq-pfpWc"
   },
   "outputs": [],
   "source": []
  },
  {
   "cell_type": "markdown",
   "metadata": {
    "id": "nzrEdhKXfpWc"
   },
   "source": [
    "## 4) 튜플(Tuple)"
   ]
  },
  {
   "cell_type": "markdown",
   "metadata": {
    "id": "k6jpRXd8fpWc"
   },
   "source": [
    "### (1) 표현"
   ]
  },
  {
   "cell_type": "markdown",
   "metadata": {
    "id": "bCZYM_W2fpWc"
   },
   "source": [
    "## 5) 딕셔너리(Dictionary)"
   ]
  },
  {
   "cell_type": "markdown",
   "metadata": {
    "id": "iQ82NPU1fpWc"
   },
   "source": [
    "### (1) 표현"
   ]
  },
  {
   "cell_type": "markdown",
   "metadata": {
    "id": "hakTc3rjfpWc"
   },
   "source": [
    "### (2) 딕셔너리 다루기"
   ]
  },
  {
   "cell_type": "markdown",
   "metadata": {
    "id": "s2HGu7VwfpWc"
   },
   "source": [
    "예제. 날씨 데이터\n",
    "* 'city'키 'Busan'으로 수정하기\n",
    "* 미세먼지(`pm10`)키 추가하기 (값: 34)\n",
    "* 'forecast' 키에 ['Rainy', 'Rainy'] 추가하기\n",
    "\n",
    "```\n",
    "weather_data = {\n",
    "    'city': 'Seoul',\n",
    "    'temperature': 22.5,  # 섭씨\n",
    "    'humidity': 60,       # 상대 습도(%)\n",
    "    'forecast': ['Sunny', 'Cloudy', 'Rainy']  # 3일 예보\n",
    "}\n",
    "```"
   ]
  },
  {
   "cell_type": "code",
   "execution_count": null,
   "metadata": {
    "id": "w3-dH_uTfpWc"
   },
   "outputs": [],
   "source": []
  },
  {
   "cell_type": "markdown",
   "metadata": {
    "id": "T1fOPGfffpWd"
   },
   "source": [
    "### (3) 관련 메서드"
   ]
  },
  {
   "cell_type": "markdown",
   "metadata": {
    "id": "xyFqV-k4fpWd"
   },
   "source": [
    "#### 조회"
   ]
  },
  {
   "cell_type": "markdown",
   "metadata": {
    "id": "NXLo6tYHfpWd"
   },
   "source": [
    "#### 삭제"
   ]
  },
  {
   "cell_type": "markdown",
   "metadata": {
    "id": "l8y7gZ80fpWd"
   },
   "source": [
    "## 6) 집합"
   ]
  },
  {
   "cell_type": "markdown",
   "metadata": {
    "id": "NsSD5UjdfpWd"
   },
   "source": [
    "### (1) 표현"
   ]
  },
  {
   "cell_type": "markdown",
   "metadata": {
    "id": "zJqGcyIbfpWd"
   },
   "source": [
    "예제. 이메일 중복 제거\n",
    "\n",
    "```\n",
    "emails = ['user1@example.com','user2@example.com','user1@example.com','user3@example.com','user2@example.com']\n",
    "```"
   ]
  },
  {
   "cell_type": "code",
   "execution_count": null,
   "metadata": {
    "id": "lmsklubGfpWd"
   },
   "outputs": [],
   "source": []
  },
  {
   "cell_type": "markdown",
   "metadata": {
    "id": "u3-4s3VbfpWe"
   },
   "source": [
    "### (2) 요소 추가/제거"
   ]
  },
  {
   "cell_type": "markdown",
   "metadata": {
    "id": "-IE7WahqfpWe"
   },
   "source": [
    "#### 추가"
   ]
  },
  {
   "cell_type": "code",
   "execution_count": null,
   "metadata": {
    "id": "ijOunSBsfzf-"
   },
   "outputs": [],
   "source": []
  },
  {
   "cell_type": "markdown",
   "metadata": {
    "id": "inOzgS8ofpWe"
   },
   "source": [
    "#### 제거"
   ]
  },
  {
   "cell_type": "markdown",
   "metadata": {
    "id": "N7sDYPgkfpWe"
   },
   "source": [
    "### (3) 연산"
   ]
  },
  {
   "cell_type": "markdown",
   "metadata": {
    "id": "WCXq_UaJfpWe"
   },
   "source": [
    "## 7) 불"
   ]
  }
 ],
 "metadata": {
  "colab": {
   "provenance": []
  },
  "kernelspec": {
   "display_name": "potenup",
   "language": "python",
   "name": "python3"
  },
  "language_info": {
   "codemirror_mode": {
    "name": "ipython",
    "version": 3
   },
   "file_extension": ".py",
   "mimetype": "text/x-python",
   "name": "python",
   "nbconvert_exporter": "python",
   "pygments_lexer": "ipython3",
   "version": "3.9.21"
  }
 },
 "nbformat": 4,
 "nbformat_minor": 0
}
