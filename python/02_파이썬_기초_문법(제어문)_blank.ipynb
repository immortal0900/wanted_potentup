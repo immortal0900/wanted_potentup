{
 "cells": [
  {
   "cell_type": "markdown",
   "metadata": {},
   "source": [
    "# 제어문"
   ]
  },
  {
   "cell_type": "markdown",
   "metadata": {},
   "source": [
    "# 1. 조건문"
   ]
  },
  {
   "cell_type": "markdown",
   "metadata": {},
   "source": [
    "## 1) 연산자"
   ]
  },
  {
   "cell_type": "markdown",
   "metadata": {},
   "source": [
    "문제. 나이가 10세 이상이고, 키가 120cm 이상일 때만 놀이기구 탑승\n",
    "\n",
    "* 탑승 가능하면 \"통과\" 아니면 \"탑승 불가\"라고 출력하기"
   ]
  },
  {
   "cell_type": "markdown",
   "metadata": {},
   "source": [
    "문제. 10만원 이상 구매하거나 \"Gold\" 등급이면 10% 할인\n",
    "\n",
    "* 할인이 가능하면 \"10% 할인 가능\" 아니면 \"10% 할인 불가\" 출력"
   ]
  },
  {
   "cell_type": "markdown",
   "metadata": {},
   "source": [
    "## 2) 활용"
   ]
  },
  {
   "cell_type": "markdown",
   "metadata": {},
   "source": [
    "## 4) 예제"
   ]
  },
  {
   "cell_type": "markdown",
   "metadata": {},
   "source": [
    "문제 1. 온도가 15도에서 25도 사이인지 확인하는 예시:"
   ]
  },
  {
   "cell_type": "code",
   "execution_count": null,
   "metadata": {},
   "outputs": [],
   "source": [
    "\n"
   ]
  },
  {
   "cell_type": "code",
   "execution_count": 2,
   "metadata": {},
   "outputs": [
    {
     "name": "stdout",
     "output_type": "stream",
     "text": [
      "15도에서 25도 밖입니다.\n"
     ]
    }
   ],
   "source": [
    "\n",
    "tem= 50\n",
    "if 15 <= tem and tem <= 25:\n",
    "\n",
    "    print('15도에서 25도 사이입니다.')\n",
    "else:\n",
    "    print('15도에서 25도 밖입니다.')"
   ]
  },
  {
   "cell_type": "markdown",
   "metadata": {},
   "source": [
    "문제 2. 학생의 성적에 따른 장학금 여부 결정\n",
    "\n",
    "* GPA가 4.0 이상이면 100% 장학금을 받습니다.\n",
    "* GPA가 3.5 이상이면 50% 장학금을 받습니다.\n",
    "* GPA가 3.0 이상이면 30% 장학금을 받습니다.\n",
    "* 그 외에는 장학금을 받을 수 없습니다."
   ]
  },
  {
   "cell_type": "code",
   "execution_count": 4,
   "metadata": {},
   "outputs": [
    {
     "name": "stdout",
     "output_type": "stream",
     "text": [
      "no장학금\n"
     ]
    }
   ],
   "source": [
    "GPA = 1.0\n",
    "if GPA >= 4.0:\n",
    "    print(학비 * 1)\n",
    "elif GPA >= 3.5:\n",
    "    print(학비* 0.5)\n",
    "elif GPA >= 3.0:\n",
    "    print(학비* 0.3)\n",
    "else:\n",
    "    print('no장학금')\n",
    "\n"
   ]
  },
  {
   "cell_type": "markdown",
   "metadata": {},
   "source": [
    "문제 3. 특정 단어가 문장에서 없는지 확인\n",
    "\n",
    "* search_word가 text에 포함되지 않으면 해당 단어가 문장에 없다는 메시지를 출력합니다."
   ]
  },
  {
   "cell_type": "code",
   "execution_count": 5,
   "metadata": {},
   "outputs": [
    {
     "name": "stdout",
     "output_type": "stream",
     "text": [
      "해당문장에 단어가 없습니다.\n"
     ]
    }
   ],
   "source": [
    "text = '데이터 분석은 흥미롭고 중요한 분야 입니다.'\n",
    "\n",
    "if text.count('search_word') == 0 :\n",
    "    print('해당문장에 단어가 없습니다.')"
   ]
  },
  {
   "cell_type": "markdown",
   "metadata": {},
   "source": [
    "# 2. 반복문"
   ]
  },
  {
   "cell_type": "markdown",
   "metadata": {},
   "source": [
    "## 1) While 문"
   ]
  },
  {
   "cell_type": "markdown",
   "metadata": {},
   "source": [
    "<img src='https://www.dropbox.com/scl/fi/r0815e20gb2hv6a599i00/_-while.png?rlkey=dexzbwy3xu4phnzvo65cb6hbq&st=ykavuhx3&dl=1' width=30%>"
   ]
  },
  {
   "cell_type": "markdown",
   "metadata": {},
   "source": [
    "### (1) 표현"
   ]
  },
  {
   "cell_type": "code",
   "execution_count": 6,
   "metadata": {},
   "outputs": [
    {
     "name": "stdout",
     "output_type": "stream",
     "text": [
      "0\n",
      "1\n",
      "2\n"
     ]
    }
   ],
   "source": [
    "count = 0\n",
    "while count < 3:\n",
    "    print(count)\n",
    "    count += 1"
   ]
  },
  {
   "cell_type": "code",
   "execution_count": 7,
   "metadata": {},
   "outputs": [
    {
     "name": "stdout",
     "output_type": "stream",
     "text": [
      "1\n",
      "2\n",
      "3\n",
      "4\n"
     ]
    }
   ],
   "source": [
    "count = 0\n",
    "while True:\n",
    "    count += 1\n",
    "    print(count)\n",
    "    \n",
    "\n",
    "    if count > 3:\n",
    "        break"
   ]
  },
  {
   "cell_type": "code",
   "execution_count": 8,
   "metadata": {},
   "outputs": [
    {
     "name": "stdout",
     "output_type": "stream",
     "text": [
      "0\n",
      "1\n",
      "2\n",
      "3\n"
     ]
    }
   ],
   "source": [
    "count = 0\n",
    "while True:\n",
    "    print(count)\n",
    "    count += 1\n",
    "\n",
    "    if count > 3:\n",
    "        break"
   ]
  },
  {
   "cell_type": "code",
   "execution_count": 9,
   "metadata": {},
   "outputs": [
    {
     "name": "stdout",
     "output_type": "stream",
     "text": [
      "1\n",
      "2\n",
      "3\n"
     ]
    }
   ],
   "source": [
    "count = 0\n",
    "while True:\n",
    "    count += 1\n",
    "  \n",
    "    \n",
    "\n",
    "    if count > 3:\n",
    "        break\n",
    "    print(count)\n"
   ]
  },
  {
   "cell_type": "markdown",
   "metadata": {},
   "source": [
    "### (2) break"
   ]
  },
  {
   "cell_type": "markdown",
   "metadata": {},
   "source": [
    "### (2) continue"
   ]
  },
  {
   "cell_type": "code",
   "execution_count": 11,
   "metadata": {},
   "outputs": [
    {
     "name": "stdout",
     "output_type": "stream",
     "text": [
      "2\n"
     ]
    }
   ],
   "source": [
    "count = 0\n",
    "while count < 3:\n",
    "    count += 1\n",
    "\n",
    "    if count % 2 != 0:\n",
    "        continue\n",
    "\n",
    "    print(count)"
   ]
  },
  {
   "cell_type": "markdown",
   "metadata": {},
   "source": [
    "## 2) For 문"
   ]
  },
  {
   "cell_type": "markdown",
   "metadata": {},
   "source": [
    "<img src='https://www.dropbox.com/scl/fi/eezsh68wobwm87rhh7209/_-for.png?rlkey=w1mhrm40cg413ajdajix0bb9m&st=ptyurj6a&dl=1' width='30%'>"
   ]
  },
  {
   "cell_type": "markdown",
   "metadata": {},
   "source": [
    "### (1) 표현"
   ]
  },
  {
   "cell_type": "code",
   "execution_count": null,
   "metadata": {},
   "outputs": [],
   "source": [
    "num_list = [1, 2, 3]\n",
    "for num in num_list:\n",
    "    print(num)"
   ]
  },
  {
   "cell_type": "markdown",
   "metadata": {},
   "source": [
    "### (2) 관련 주요 함수"
   ]
  },
  {
   "cell_type": "markdown",
   "metadata": {},
   "source": [
    "# range(n): 0부터 n-1까지 1씩 증가하는 연속적인 빅위를 생성해줌\n",
    "# range()를 이용해서 나음 출력이 나오도록 코딩해주세요\n",
    "# 출력 결과\n",
    "1\n",
    "2\n",
    "3\n",
    "4\n",
    "5"
   ]
  },
  {
   "cell_type": "code",
   "execution_count": 12,
   "metadata": {},
   "outputs": [
    {
     "name": "stdout",
     "output_type": "stream",
     "text": [
      "1\n",
      "2\n",
      "3\n",
      "4\n",
      "5\n"
     ]
    }
   ],
   "source": [
    "for i in range(1,6):\n",
    "    print(i)"
   ]
  },
  {
   "cell_type": "code",
   "execution_count": 13,
   "metadata": {},
   "outputs": [
    {
     "name": "stdout",
     "output_type": "stream",
     "text": [
      "홍길동\n",
      "김철수\n",
      "한유리\n",
      "정성우\n"
     ]
    }
   ],
   "source": [
    "students = [\"홍길동\", \"김철수\", \"한유리\", \"정성우\"]\n",
    "\n",
    "for i in students:\n",
    "    print(i)"
   ]
  },
  {
   "cell_type": "code",
   "execution_count": 16,
   "metadata": {},
   "outputs": [
    {
     "name": "stdout",
     "output_type": "stream",
     "text": [
      "0 홍길동\n",
      "1 김철수\n",
      "2 한유리\n",
      "3 정성우\n"
     ]
    }
   ],
   "source": [
    "for i, student in enumerate(students):\n",
    "    print(i, student)\n",
    "    "
   ]
  },
  {
   "cell_type": "markdown",
   "metadata": {},
   "source": [
    "### (3) break/continue"
   ]
  },
  {
   "cell_type": "code",
   "execution_count": null,
   "metadata": {},
   "outputs": [],
   "source": []
  },
  {
   "cell_type": "markdown",
   "metadata": {},
   "source": [
    "#### break"
   ]
  },
  {
   "cell_type": "code",
   "execution_count": 30,
   "metadata": {},
   "outputs": [
    {
     "name": "stdout",
     "output_type": "stream",
     "text": [
      "1\n",
      "2\n",
      "3\n",
      "4\n",
      "5\n",
      "6\n"
     ]
    }
   ],
   "source": [
    "for i in range(1,11):\n",
    "    if i == 7:\n",
    "        break\n",
    "    print(i)"
   ]
  },
  {
   "cell_type": "markdown",
   "metadata": {},
   "source": [
    "#### continue"
   ]
  },
  {
   "cell_type": "code",
   "execution_count": 32,
   "metadata": {},
   "outputs": [
    {
     "name": "stdout",
     "output_type": "stream",
     "text": [
      "1\n",
      "2\n",
      "3\n",
      "4\n",
      "6\n",
      "7\n",
      "8\n",
      "9\n",
      "10\n"
     ]
    }
   ],
   "source": [
    "for i in range(1,11):\n",
    "    if i == 5 :\n",
    "        continue\n",
    "    print(i)"
   ]
  },
  {
   "cell_type": "markdown",
   "metadata": {},
   "source": [
    "### (4) 활용"
   ]
  },
  {
   "cell_type": "markdown",
   "metadata": {},
   "source": [
    "# 미션\n",
    "score_data = {\"홍길동\": 68, \"최수연\": 44, \"김철수\": 90}\n",
    "\n",
    "## 출력 결과\n",
    "홍길동\n",
    "최수연\n",
    "김철수\n",
    "\n",
    "## 출력 결과\n",
    "68\n",
    "44\n",
    "90\n",
    "\n",
    "## 출력 결과\n",
    "홍길동 68점\n",
    "최수연 44점\n",
    "김철수 90점"
   ]
  },
  {
   "cell_type": "code",
   "execution_count": 19,
   "metadata": {},
   "outputs": [
    {
     "name": "stdout",
     "output_type": "stream",
     "text": [
      "홍길동\n",
      "최수연\n",
      "김철수\n"
     ]
    }
   ],
   "source": [
    "score_data = {\"홍길동\": 68, \"최수연\": 44, \"김철수\": 90}\n",
    "\n",
    "for a,b in score_data.items():\n",
    "    print(a)"
   ]
  },
  {
   "cell_type": "code",
   "execution_count": 20,
   "metadata": {},
   "outputs": [
    {
     "name": "stdout",
     "output_type": "stream",
     "text": [
      "68\n",
      "44\n",
      "90\n"
     ]
    }
   ],
   "source": [
    "for a,b in score_data.items():\n",
    "    print(b)"
   ]
  },
  {
   "cell_type": "code",
   "execution_count": 21,
   "metadata": {},
   "outputs": [
    {
     "name": "stdout",
     "output_type": "stream",
     "text": [
      "홍길동 68점\n",
      "최수연 44점\n",
      "김철수 90점\n"
     ]
    }
   ],
   "source": [
    "for a,b in score_data.items():\n",
    "    print(f'{a} {b}점')"
   ]
  },
  {
   "cell_type": "markdown",
   "metadata": {},
   "source": [
    "## 3) 예제"
   ]
  },
  {
   "cell_type": "markdown",
   "metadata": {},
   "source": [
    "예제1. 학생 성적 딕셔너리\n",
    "\n",
    "반복문을 사용해서 \"홍길동님의 성적은 85점입니다\" 형태로 출력하세요.\n",
    "\n",
    "```\n",
    "grades = {\n",
    "    \"John\": 85,\n",
    "    \"Emily\": 92,\n",
    "    \"Tom\": 78,\n",
    "    \"Lucy\": 88\n",
    "}\n",
    "```"
   ]
  },
  {
   "cell_type": "code",
   "execution_count": 18,
   "metadata": {},
   "outputs": [
    {
     "name": "stdout",
     "output_type": "stream",
     "text": [
      "John님의 성적은 85점 입니다\n",
      "Emily님의 성적은 92점 입니다\n",
      "Tom님의 성적은 78점 입니다\n",
      "Lucy님의 성적은 88점 입니다\n"
     ]
    }
   ],
   "source": [
    "grades = {\n",
    "    \"John\": 85,\n",
    "    \"Emily\": 92,\n",
    "    \"Tom\": 78,\n",
    "    \"Lucy\": 88\n",
    "}\n",
    "for a,b in grades.items():\n",
    "    print(f'{a}님의 성적은 {b}점 입니다')\n"
   ]
  },
  {
   "cell_type": "markdown",
   "metadata": {},
   "source": [
    "예제2. 센서 온도 데이터\n",
    "\n",
    "30도 이상인 데이터만 출력하세요\n",
    "\n",
    "```\n",
    "temperature_data = [22.5, 35.2, 28.4, 40.1, 25.3]\n",
    "```"
   ]
  },
  {
   "cell_type": "code",
   "execution_count": 22,
   "metadata": {},
   "outputs": [
    {
     "name": "stdout",
     "output_type": "stream",
     "text": [
      "35.2\n",
      "40.1\n"
     ]
    }
   ],
   "source": [
    "temperature_data = [22.5, 35.2, 28.4, 40.1, 25.3]\n",
    "for i in temperature_data:\n",
    "    if i >= 30:\n",
    "        print(i)"
   ]
  },
  {
   "cell_type": "markdown",
   "metadata": {},
   "source": [
    "예제 3. 고객 주문 데이터\n",
    "\n",
    "반복문을 사용해서 총 매출을 계산하세요.\n",
    "\n",
    "```\n",
    "orders = [\n",
    "    {\"customer\": \"Kim\", \"amount\": 120000},\n",
    "    {\"customer\": \"Lee\", \"amount\": 85000},\n",
    "    {\"customer\": \"Park\", \"amount\": 99000},\n",
    "]\n",
    "```"
   ]
  },
  {
   "cell_type": "code",
   "execution_count": 29,
   "metadata": {},
   "outputs": [
    {
     "ename": "ValueError",
     "evalue": "dictionary update sequence element #0 has length 3; 2 is required",
     "output_type": "error",
     "traceback": [
      "\u001b[31m---------------------------------------------------------------------------\u001b[39m",
      "\u001b[31mValueError\u001b[39m                                Traceback (most recent call last)",
      "\u001b[36mCell\u001b[39m\u001b[36m \u001b[39m\u001b[32mIn[29]\u001b[39m\u001b[32m, line 9\u001b[39m\n\u001b[32m      7\u001b[39m \u001b[38;5;28;01mfor\u001b[39;00m i \u001b[38;5;129;01min\u001b[39;00m orders:\n\u001b[32m      8\u001b[39m     myvalue = i.values()\n\u001b[32m----> \u001b[39m\u001b[32m9\u001b[39m     \u001b[38;5;28;01mfor\u001b[39;00m a,b \u001b[38;5;129;01min\u001b[39;00m \u001b[38;5;28;43mdict\u001b[39;49m\u001b[43m(\u001b[49m\u001b[43mmyvalue\u001b[49m\u001b[43m)\u001b[49m.items():\n\u001b[32m     10\u001b[39m         price += b\n\u001b[32m     11\u001b[39m         \u001b[38;5;28mprint\u001b[39m(price)    \n",
      "\u001b[31mValueError\u001b[39m: dictionary update sequence element #0 has length 3; 2 is required"
     ]
    }
   ],
   "source": [
    "orders = [\n",
    "    {\"customer\": \"Kim\", \"amount\": 120000},\n",
    "    {\"customer\": \"Lee\", \"amount\": 85000},\n",
    "    {\"customer\": \"Park\", \"amount\": 99000},\n",
    "]\n",
    "price = 0\n",
    "for i in orders:\n",
    "    myvalue = i.values()\n",
    "    for a,b in dict(myvalue).items():\n",
    "        price += b\n",
    "        print(price)    \n"
   ]
  },
  {
   "cell_type": "markdown",
   "metadata": {},
   "source": [
    "예제 4. 리뷰 데이터\n",
    "\n",
    "짜장면이 언급된 데이터만 출력하세요\n",
    "\n",
    "```\n",
    "reviews = [\n",
    "    \"맛있어요! 짜장면 최고예요!\",\n",
    "    \"배달이 느렸지만 짬뽕은 맛있었어요.\",\n",
    "    \"탕수육은 별로였지만 전체적으로 만족!\",\n",
    "    \"짜장면이 너무 짰어요.\",\n",
    "]\n",
    "```"
   ]
  },
  {
   "cell_type": "markdown",
   "metadata": {},
   "source": [
    "## 4) List Comprehension"
   ]
  },
  {
   "cell_type": "code",
   "execution_count": 33,
   "metadata": {},
   "outputs": [
    {
     "name": "stdout",
     "output_type": "stream",
     "text": [
      "[1, 2, 3, 4, 5, 6, 7, 8, 9, 10]\n"
     ]
    }
   ],
   "source": [
    "num_list = [i for i in range(1,11)]\n",
    "print(num_list)"
   ]
  },
  {
   "cell_type": "code",
   "execution_count": null,
   "metadata": {},
   "outputs": [],
   "source": [
    "num_list = [i**2 for i in range(1,11)]\n",
    "print(num_list)"
   ]
  },
  {
   "cell_type": "code",
   "execution_count": null,
   "metadata": {},
   "outputs": [],
   "source": [
    "# 1~10까지의 짝수 리스트를 만들고 싶다.\n",
    "num_list = [i for i in range(1,11) if i % 2 == 0]\n",
    "print(num_list)"
   ]
  },
  {
   "cell_type": "code",
   "execution_count": 34,
   "metadata": {},
   "outputs": [
    {
     "name": "stdout",
     "output_type": "stream",
     "text": [
      "['홀수', '짝수', '홀수', '짝수', '홀수', '짝수', '홀수', '짝수', '홀수', '짝수']\n"
     ]
    }
   ],
   "source": [
    "# 1~10까지의 짝수 '짝수', 홀수는 '홀수' 리스트를 만들고 싶다.\n",
    "\n",
    "num_list = [\"짝수\" if i % 2 == 0 else '홀수' for i in range(1,11)]\n",
    "print(num_list)"
   ]
  }
 ],
 "metadata": {
  "kernelspec": {
   "display_name": "wanted-potentup",
   "language": "python",
   "name": "python3"
  },
  "language_info": {
   "codemirror_mode": {
    "name": "ipython",
    "version": 3
   },
   "file_extension": ".py",
   "mimetype": "text/x-python",
   "name": "python",
   "nbconvert_exporter": "python",
   "pygments_lexer": "ipython3",
   "version": "3.13.5"
  }
 },
 "nbformat": 4,
 "nbformat_minor": 2
}
